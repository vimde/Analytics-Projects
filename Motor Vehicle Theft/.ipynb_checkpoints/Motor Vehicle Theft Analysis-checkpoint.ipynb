{
 "cells": [
  {
   "cell_type": "code",
   "execution_count": 1,
   "metadata": {
    "collapsed": true
   },
   "outputs": [],
   "source": [
    "import pandas as pd"
   ]
  },
  {
   "cell_type": "code",
   "execution_count": 2,
   "metadata": {
    "collapsed": true
   },
   "outputs": [],
   "source": [
    "import numpy as np"
   ]
  },
  {
   "cell_type": "code",
   "execution_count": 3,
   "metadata": {},
   "outputs": [
    {
     "name": "stderr",
     "output_type": "stream",
     "text": [
      "C:\\Users\\Vivek\\Anaconda3\\lib\\site-packages\\IPython\\core\\interactiveshell.py:2717: DtypeWarning: Columns (6,7) have mixed types. Specify dtype option on import or set low_memory=False.\n",
      "  interactivity=interactivity, compiler=compiler, result=result)\n"
     ]
    }
   ],
   "source": [
    "motorCrimeData = pd.read_csv('mvtWeek1.csv')"
   ]
  },
  {
   "cell_type": "code",
   "execution_count": 4,
   "metadata": {},
   "outputs": [
    {
     "data": {
      "text/html": [
       "<div>\n",
       "<style>\n",
       "    .dataframe thead tr:only-child th {\n",
       "        text-align: right;\n",
       "    }\n",
       "\n",
       "    .dataframe thead th {\n",
       "        text-align: left;\n",
       "    }\n",
       "\n",
       "    .dataframe tbody tr th {\n",
       "        vertical-align: top;\n",
       "    }\n",
       "</style>\n",
       "<table border=\"1\" class=\"dataframe\">\n",
       "  <thead>\n",
       "    <tr style=\"text-align: right;\">\n",
       "      <th></th>\n",
       "      <th>ID</th>\n",
       "      <th>Beat</th>\n",
       "      <th>Year</th>\n",
       "      <th>Latitude</th>\n",
       "      <th>Longitude</th>\n",
       "    </tr>\n",
       "  </thead>\n",
       "  <tbody>\n",
       "    <tr>\n",
       "      <th>count</th>\n",
       "      <td>1.916410e+05</td>\n",
       "      <td>191641.000000</td>\n",
       "      <td>191641.000000</td>\n",
       "      <td>189365.000000</td>\n",
       "      <td>189365.000000</td>\n",
       "    </tr>\n",
       "    <tr>\n",
       "      <th>mean</th>\n",
       "      <td>4.968629e+06</td>\n",
       "      <td>1258.810771</td>\n",
       "      <td>2006.134940</td>\n",
       "      <td>41.844555</td>\n",
       "      <td>-87.677782</td>\n",
       "    </tr>\n",
       "    <tr>\n",
       "      <th>std</th>\n",
       "      <td>2.342997e+06</td>\n",
       "      <td>702.530465</td>\n",
       "      <td>3.520285</td>\n",
       "      <td>0.085583</td>\n",
       "      <td>0.057333</td>\n",
       "    </tr>\n",
       "    <tr>\n",
       "      <th>min</th>\n",
       "      <td>1.310022e+06</td>\n",
       "      <td>111.000000</td>\n",
       "      <td>2001.000000</td>\n",
       "      <td>41.644710</td>\n",
       "      <td>-87.925510</td>\n",
       "    </tr>\n",
       "    <tr>\n",
       "      <th>25%</th>\n",
       "      <td>2.832144e+06</td>\n",
       "      <td>722.000000</td>\n",
       "      <td>2003.000000</td>\n",
       "      <td>41.771618</td>\n",
       "      <td>-87.718474</td>\n",
       "    </tr>\n",
       "    <tr>\n",
       "      <th>50%</th>\n",
       "      <td>4.762956e+06</td>\n",
       "      <td>1121.000000</td>\n",
       "      <td>2006.000000</td>\n",
       "      <td>41.850029</td>\n",
       "      <td>-87.677597</td>\n",
       "    </tr>\n",
       "    <tr>\n",
       "      <th>75%</th>\n",
       "      <td>7.201878e+06</td>\n",
       "      <td>1733.000000</td>\n",
       "      <td>2009.000000</td>\n",
       "      <td>41.917116</td>\n",
       "      <td>-87.635513</td>\n",
       "    </tr>\n",
       "    <tr>\n",
       "      <th>max</th>\n",
       "      <td>9.181151e+06</td>\n",
       "      <td>2535.000000</td>\n",
       "      <td>2012.000000</td>\n",
       "      <td>42.022878</td>\n",
       "      <td>-87.524676</td>\n",
       "    </tr>\n",
       "  </tbody>\n",
       "</table>\n",
       "</div>"
      ],
      "text/plain": [
       "                 ID           Beat           Year       Latitude  \\\n",
       "count  1.916410e+05  191641.000000  191641.000000  189365.000000   \n",
       "mean   4.968629e+06    1258.810771    2006.134940      41.844555   \n",
       "std    2.342997e+06     702.530465       3.520285       0.085583   \n",
       "min    1.310022e+06     111.000000    2001.000000      41.644710   \n",
       "25%    2.832144e+06     722.000000    2003.000000      41.771618   \n",
       "50%    4.762956e+06    1121.000000    2006.000000      41.850029   \n",
       "75%    7.201878e+06    1733.000000    2009.000000      41.917116   \n",
       "max    9.181151e+06    2535.000000    2012.000000      42.022878   \n",
       "\n",
       "           Longitude  \n",
       "count  189365.000000  \n",
       "mean      -87.677782  \n",
       "std         0.057333  \n",
       "min       -87.925510  \n",
       "25%       -87.718474  \n",
       "50%       -87.677597  \n",
       "75%       -87.635513  \n",
       "max       -87.524676  "
      ]
     },
     "execution_count": 4,
     "metadata": {},
     "output_type": "execute_result"
    }
   ],
   "source": [
    "motorCrimeData.describe()"
   ]
  },
  {
   "cell_type": "markdown",
   "metadata": {},
   "source": [
    "#### 1. How many rows of data (observations) are in this dataset?"
   ]
  },
  {
   "cell_type": "code",
   "execution_count": 5,
   "metadata": {},
   "outputs": [
    {
     "data": {
      "text/plain": [
       "ID                     191641\n",
       "Date                   191641\n",
       "LocationDescription    191641\n",
       "Arrest                 191641\n",
       "Domestic               191641\n",
       "Beat                   191641\n",
       "District               148589\n",
       "CommunityArea          167038\n",
       "Year                   191641\n",
       "Latitude               189365\n",
       "Longitude              189365\n",
       "dtype: int64"
      ]
     },
     "execution_count": 5,
     "metadata": {},
     "output_type": "execute_result"
    }
   ],
   "source": [
    "motorCrimeData.count()"
   ]
  },
  {
   "cell_type": "markdown",
   "metadata": {},
   "source": [
    "#### 2. How many variables are in this dataset?"
   ]
  },
  {
   "cell_type": "code",
   "execution_count": 6,
   "metadata": {},
   "outputs": [
    {
     "data": {
      "text/plain": [
       "11"
      ]
     },
     "execution_count": 6,
     "metadata": {},
     "output_type": "execute_result"
    }
   ],
   "source": [
    "len(motorCrimeData.columns)"
   ]
  },
  {
   "cell_type": "markdown",
   "metadata": {},
   "source": [
    "#### 3. What is the maximum value of the variable \"ID\"?"
   ]
  },
  {
   "cell_type": "code",
   "execution_count": 8,
   "metadata": {},
   "outputs": [
    {
     "data": {
      "text/plain": [
       "ID                           9181151\n",
       "Date                   9/22/11 17:00\n",
       "LocationDescription           STREET\n",
       "Arrest                         False\n",
       "Domestic                       False\n",
       "Beat                            2232\n",
       "District                         NaN\n",
       "CommunityArea                     73\n",
       "Year                            2011\n",
       "Latitude                         NaN\n",
       "Longitude                        NaN\n",
       "Name: 18133, dtype: object"
      ]
     },
     "execution_count": 8,
     "metadata": {},
     "output_type": "execute_result"
    }
   ],
   "source": [
    "motorCrimeData.loc[motorCrimeData['ID'].idxmax()]"
   ]
  },
  {
   "cell_type": "markdown",
   "metadata": {},
   "source": [
    "##### Another way to find the maximum value in a column"
   ]
  },
  {
   "cell_type": "code",
   "execution_count": 9,
   "metadata": {},
   "outputs": [
    {
     "data": {
      "text/plain": [
       "9181151"
      ]
     },
     "execution_count": 9,
     "metadata": {},
     "output_type": "execute_result"
    }
   ],
   "source": [
    "motorCrimeData['ID'].max()"
   ]
  },
  {
   "cell_type": "markdown",
   "metadata": {},
   "source": [
    "#### 4. What is the minimum value of the variable \"Beat\"?"
   ]
  },
  {
   "cell_type": "code",
   "execution_count": 10,
   "metadata": {},
   "outputs": [
    {
     "data": {
      "text/plain": [
       "111"
      ]
     },
     "execution_count": 10,
     "metadata": {},
     "output_type": "execute_result"
    }
   ],
   "source": [
    "motorCrimeData['Beat'].min()"
   ]
  },
  {
   "cell_type": "markdown",
   "metadata": {},
   "source": [
    "#### 5. How many observations have value TRUE in the Arrest variable (this is the number of crimes for which an arrest was made)?"
   ]
  },
  {
   "cell_type": "code",
   "execution_count": 11,
   "metadata": {},
   "outputs": [
    {
     "data": {
      "text/plain": [
       "ID                     15536\n",
       "Date                   15536\n",
       "LocationDescription    15536\n",
       "Arrest                 15536\n",
       "Domestic               15536\n",
       "Beat                   15536\n",
       "District               10886\n",
       "CommunityArea          12810\n",
       "Year                   15536\n",
       "Latitude               15354\n",
       "Longitude              15354\n",
       "dtype: int64"
      ]
     },
     "execution_count": 11,
     "metadata": {},
     "output_type": "execute_result"
    }
   ],
   "source": [
    "motorCrimeData[motorCrimeData['Arrest'] == True].count()"
   ]
  },
  {
   "cell_type": "code",
   "execution_count": 12,
   "metadata": {},
   "outputs": [
    {
     "data": {
      "text/plain": [
       "15536"
      ]
     },
     "execution_count": 12,
     "metadata": {},
     "output_type": "execute_result"
    }
   ],
   "source": [
    "motorCrimeData[motorCrimeData['Arrest'] == True]['Arrest'].count()"
   ]
  },
  {
   "cell_type": "markdown",
   "metadata": {},
   "source": [
    "#### 6. How many observations have a LocationDescription value of ALLEY?"
   ]
  },
  {
   "cell_type": "code",
   "execution_count": 14,
   "metadata": {},
   "outputs": [
    {
     "data": {
      "text/plain": [
       "STREET                                             156564\n",
       "PARKING LOT/GARAGE(NON.RESID.)                      14852\n",
       "OTHER                                                4573\n",
       "ALLEY                                                2308\n",
       "GAS STATION                                          2111\n",
       "DRIVEWAY - RESIDENTIAL                               1675\n",
       "RESIDENTIAL YARD (FRONT/BACK)                        1536\n",
       "RESIDENCE                                            1302\n",
       "RESIDENCE-GARAGE                                     1176\n",
       "VACANT LOT/LAND                                       985\n",
       "VEHICLE NON-COMMERCIAL                                817\n",
       "SIDEWALK                                              462\n",
       "CHA PARKING LOT/GROUNDS                               405\n",
       "AIRPORT/AIRCRAFT                                      363\n",
       "POLICE FACILITY/VEH PARKING LOT                       266\n",
       "PARK PROPERTY                                         255\n",
       "SCHOOL, PUBLIC, GROUNDS                               206\n",
       "APARTMENT                                             184\n",
       "SPORTS ARENA/STADIUM                                  166\n",
       "CTA GARAGE / OTHER PROPERTY                           148\n",
       "COMMERCIAL / BUSINESS OFFICE                          126\n",
       "HOTEL/MOTEL                                           124\n",
       "SCHOOL, PUBLIC, BUILDING                              114\n",
       "HOSPITAL BUILDING/GROUNDS                             101\n",
       "GROCERY FOOD STORE                                     80\n",
       "CHURCH/SYNAGOGUE/PLACE OF WORSHIP                      56\n",
       "RESTAURANT                                             49\n",
       "GOVERNMENT BUILDING/PROPERTY                           48\n",
       "COLLEGE/UNIVERSITY GROUNDS                             47\n",
       "CAR WASH                                               44\n",
       "                                                    ...  \n",
       "AIRPORT VENDING ESTABLISHMENT                          10\n",
       "ATHLETIC CLUB                                           9\n",
       "OTHER COMMERCIAL TRANSPORTATION                         8\n",
       "DRUG STORE                                              8\n",
       "CONVENIENCE STORE                                       7\n",
       "BANK                                                    7\n",
       "FOREST PRESERVE                                         6\n",
       "AIRPORT TERMINAL UPPER LEVEL - NON-SECURE AREA          5\n",
       "DAY CARE CENTER                                         5\n",
       "FIRE STATION                                            5\n",
       "CHA APARTMENT                                           5\n",
       "BARBERSHOP                                              4\n",
       "ABANDONED BUILDING                                      4\n",
       "SAVINGS AND LOAN                                        4\n",
       "LAKEFRONT/WATERFRONT/RIVERBANK                          4\n",
       "LIBRARY                                                 4\n",
       "AIRPORT BUILDING NON-TERMINAL - NON-SECURE AREA         4\n",
       "BOWLING ALLEY                                           3\n",
       "MEDICAL/DENTAL OFFICE                                   3\n",
       "CLEANING STORE                                          3\n",
       "BRIDGE                                                  2\n",
       "CURRENCY EXCHANGE                                       2\n",
       "COLLEGE/UNIVERSITY RESIDENCE HALL                       2\n",
       "AIRPORT BUILDING NON-TERMINAL - SECURE AREA             1\n",
       "CTA TRAIN                                               1\n",
       "NEWSSTAND                                               1\n",
       "ANIMAL HOSPITAL                                         1\n",
       "APPLIANCE STORE                                         1\n",
       "AIRPORT EXTERIOR - SECURE AREA                          1\n",
       "JAIL / LOCK-UP FACILITY                                 1\n",
       "Name: LocationDescription, Length: 78, dtype: int64"
      ]
     },
     "execution_count": 14,
     "metadata": {},
     "output_type": "execute_result"
    }
   ],
   "source": [
    "motorCrimeData['LocationDescription'].value_counts()"
   ]
  },
  {
   "cell_type": "markdown",
   "metadata": {},
   "source": [
    "#### 7. In what format are the entries in the variable Date?"
   ]
  },
  {
   "cell_type": "code",
   "execution_count": 15,
   "metadata": {},
   "outputs": [
    {
     "data": {
      "text/html": [
       "<div>\n",
       "<style>\n",
       "    .dataframe thead tr:only-child th {\n",
       "        text-align: right;\n",
       "    }\n",
       "\n",
       "    .dataframe thead th {\n",
       "        text-align: left;\n",
       "    }\n",
       "\n",
       "    .dataframe tbody tr th {\n",
       "        vertical-align: top;\n",
       "    }\n",
       "</style>\n",
       "<table border=\"1\" class=\"dataframe\">\n",
       "  <thead>\n",
       "    <tr style=\"text-align: right;\">\n",
       "      <th></th>\n",
       "      <th>ID</th>\n",
       "      <th>Date</th>\n",
       "      <th>LocationDescription</th>\n",
       "      <th>Arrest</th>\n",
       "      <th>Domestic</th>\n",
       "      <th>Beat</th>\n",
       "      <th>District</th>\n",
       "      <th>CommunityArea</th>\n",
       "      <th>Year</th>\n",
       "      <th>Latitude</th>\n",
       "      <th>Longitude</th>\n",
       "    </tr>\n",
       "  </thead>\n",
       "  <tbody>\n",
       "    <tr>\n",
       "      <th>0</th>\n",
       "      <td>8951354</td>\n",
       "      <td>12/31/12 23:15</td>\n",
       "      <td>STREET</td>\n",
       "      <td>False</td>\n",
       "      <td>False</td>\n",
       "      <td>623</td>\n",
       "      <td>6</td>\n",
       "      <td>69</td>\n",
       "      <td>2012</td>\n",
       "      <td>41.756284</td>\n",
       "      <td>-87.621645</td>\n",
       "    </tr>\n",
       "    <tr>\n",
       "      <th>1</th>\n",
       "      <td>8951141</td>\n",
       "      <td>12/31/12 22:00</td>\n",
       "      <td>STREET</td>\n",
       "      <td>False</td>\n",
       "      <td>False</td>\n",
       "      <td>1213</td>\n",
       "      <td>12</td>\n",
       "      <td>24</td>\n",
       "      <td>2012</td>\n",
       "      <td>41.898788</td>\n",
       "      <td>-87.661303</td>\n",
       "    </tr>\n",
       "    <tr>\n",
       "      <th>2</th>\n",
       "      <td>8952745</td>\n",
       "      <td>12/31/12 22:00</td>\n",
       "      <td>RESIDENTIAL YARD (FRONT/BACK)</td>\n",
       "      <td>False</td>\n",
       "      <td>False</td>\n",
       "      <td>1622</td>\n",
       "      <td>16</td>\n",
       "      <td>11</td>\n",
       "      <td>2012</td>\n",
       "      <td>41.969186</td>\n",
       "      <td>-87.767670</td>\n",
       "    </tr>\n",
       "    <tr>\n",
       "      <th>3</th>\n",
       "      <td>8952223</td>\n",
       "      <td>12/31/12 22:00</td>\n",
       "      <td>STREET</td>\n",
       "      <td>False</td>\n",
       "      <td>False</td>\n",
       "      <td>724</td>\n",
       "      <td>7</td>\n",
       "      <td>67</td>\n",
       "      <td>2012</td>\n",
       "      <td>41.769329</td>\n",
       "      <td>-87.657726</td>\n",
       "    </tr>\n",
       "    <tr>\n",
       "      <th>4</th>\n",
       "      <td>8951608</td>\n",
       "      <td>12/31/12 21:30</td>\n",
       "      <td>STREET</td>\n",
       "      <td>False</td>\n",
       "      <td>False</td>\n",
       "      <td>211</td>\n",
       "      <td>2</td>\n",
       "      <td>35</td>\n",
       "      <td>2012</td>\n",
       "      <td>41.837568</td>\n",
       "      <td>-87.621761</td>\n",
       "    </tr>\n",
       "  </tbody>\n",
       "</table>\n",
       "</div>"
      ],
      "text/plain": [
       "        ID            Date            LocationDescription  Arrest  Domestic  \\\n",
       "0  8951354  12/31/12 23:15                         STREET   False     False   \n",
       "1  8951141  12/31/12 22:00                         STREET   False     False   \n",
       "2  8952745  12/31/12 22:00  RESIDENTIAL YARD (FRONT/BACK)   False     False   \n",
       "3  8952223  12/31/12 22:00                         STREET   False     False   \n",
       "4  8951608  12/31/12 21:30                         STREET   False     False   \n",
       "\n",
       "   Beat District CommunityArea  Year   Latitude  Longitude  \n",
       "0   623        6            69  2012  41.756284 -87.621645  \n",
       "1  1213       12            24  2012  41.898788 -87.661303  \n",
       "2  1622       16            11  2012  41.969186 -87.767670  \n",
       "3   724        7            67  2012  41.769329 -87.657726  \n",
       "4   211        2            35  2012  41.837568 -87.621761  "
      ]
     },
     "execution_count": 15,
     "metadata": {},
     "output_type": "execute_result"
    }
   ],
   "source": [
    "motorCrimeData.head()"
   ]
  },
  {
   "cell_type": "markdown",
   "metadata": {},
   "source": [
    "#### 8. What is the month and year of the median date in our dataset? "
   ]
  },
  {
   "cell_type": "code",
   "execution_count": 10,
   "metadata": {},
   "outputs": [
    {
     "data": {
      "text/plain": [
       "ID                       int64\n",
       "Date                    object\n",
       "LocationDescription     object\n",
       "Arrest                    bool\n",
       "Domestic                  bool\n",
       "Beat                     int64\n",
       "District                object\n",
       "CommunityArea           object\n",
       "Year                     int64\n",
       "Latitude               float64\n",
       "Longitude              float64\n",
       "dtype: object"
      ]
     },
     "execution_count": 10,
     "metadata": {},
     "output_type": "execute_result"
    }
   ],
   "source": [
    "motorCrimeData.dtypes"
   ]
  },
  {
   "cell_type": "code",
   "execution_count": 12,
   "metadata": {
    "collapsed": true
   },
   "outputs": [],
   "source": [
    "motorCrimeData['Date'] = pd.to_datetime(motorCrimeData['Date'])"
   ]
  },
  {
   "cell_type": "code",
   "execution_count": 18,
   "metadata": {},
   "outputs": [
    {
     "data": {
      "text/plain": [
       "ID                              int64\n",
       "Date                   datetime64[ns]\n",
       "LocationDescription            object\n",
       "Arrest                           bool\n",
       "Domestic                         bool\n",
       "Beat                            int64\n",
       "District                       object\n",
       "CommunityArea                  object\n",
       "Year                            int64\n",
       "Latitude                      float64\n",
       "Longitude                     float64\n",
       "dtype: object"
      ]
     },
     "execution_count": 18,
     "metadata": {},
     "output_type": "execute_result"
    }
   ],
   "source": [
    "motorCrimeData.dtypes"
   ]
  },
  {
   "cell_type": "code",
   "execution_count": 19,
   "metadata": {},
   "outputs": [
    {
     "data": {
      "text/plain": [
       "count                  191641\n",
       "unique                 131680\n",
       "top       2008-05-16 00:00:00\n",
       "freq                       11\n",
       "first     2001-01-01 00:01:00\n",
       "last      2012-12-31 23:15:00\n",
       "Name: Date, dtype: object"
      ]
     },
     "execution_count": 19,
     "metadata": {},
     "output_type": "execute_result"
    }
   ],
   "source": [
    "motorCrimeData['Date'].describe()"
   ]
  },
  {
   "cell_type": "code",
   "execution_count": 20,
   "metadata": {},
   "outputs": [
    {
     "data": {
      "text/html": [
       "<div>\n",
       "<style>\n",
       "    .dataframe thead tr:only-child th {\n",
       "        text-align: right;\n",
       "    }\n",
       "\n",
       "    .dataframe thead th {\n",
       "        text-align: left;\n",
       "    }\n",
       "\n",
       "    .dataframe tbody tr th {\n",
       "        vertical-align: top;\n",
       "    }\n",
       "</style>\n",
       "<table border=\"1\" class=\"dataframe\">\n",
       "  <thead>\n",
       "    <tr style=\"text-align: right;\">\n",
       "      <th></th>\n",
       "      <th>ID</th>\n",
       "      <th>Beat</th>\n",
       "      <th>Year</th>\n",
       "      <th>Latitude</th>\n",
       "      <th>Longitude</th>\n",
       "    </tr>\n",
       "  </thead>\n",
       "  <tbody>\n",
       "    <tr>\n",
       "      <th>count</th>\n",
       "      <td>1.916410e+05</td>\n",
       "      <td>191641.000000</td>\n",
       "      <td>191641.000000</td>\n",
       "      <td>189365.000000</td>\n",
       "      <td>189365.000000</td>\n",
       "    </tr>\n",
       "    <tr>\n",
       "      <th>mean</th>\n",
       "      <td>4.968629e+06</td>\n",
       "      <td>1258.810771</td>\n",
       "      <td>2006.134940</td>\n",
       "      <td>41.844555</td>\n",
       "      <td>-87.677782</td>\n",
       "    </tr>\n",
       "    <tr>\n",
       "      <th>std</th>\n",
       "      <td>2.342997e+06</td>\n",
       "      <td>702.530465</td>\n",
       "      <td>3.520285</td>\n",
       "      <td>0.085583</td>\n",
       "      <td>0.057333</td>\n",
       "    </tr>\n",
       "    <tr>\n",
       "      <th>min</th>\n",
       "      <td>1.310022e+06</td>\n",
       "      <td>111.000000</td>\n",
       "      <td>2001.000000</td>\n",
       "      <td>41.644710</td>\n",
       "      <td>-87.925510</td>\n",
       "    </tr>\n",
       "    <tr>\n",
       "      <th>25%</th>\n",
       "      <td>2.832144e+06</td>\n",
       "      <td>722.000000</td>\n",
       "      <td>2003.000000</td>\n",
       "      <td>41.771618</td>\n",
       "      <td>-87.718474</td>\n",
       "    </tr>\n",
       "    <tr>\n",
       "      <th>50%</th>\n",
       "      <td>4.762956e+06</td>\n",
       "      <td>1121.000000</td>\n",
       "      <td>2006.000000</td>\n",
       "      <td>41.850029</td>\n",
       "      <td>-87.677597</td>\n",
       "    </tr>\n",
       "    <tr>\n",
       "      <th>75%</th>\n",
       "      <td>7.201878e+06</td>\n",
       "      <td>1733.000000</td>\n",
       "      <td>2009.000000</td>\n",
       "      <td>41.917116</td>\n",
       "      <td>-87.635513</td>\n",
       "    </tr>\n",
       "    <tr>\n",
       "      <th>max</th>\n",
       "      <td>9.181151e+06</td>\n",
       "      <td>2535.000000</td>\n",
       "      <td>2012.000000</td>\n",
       "      <td>42.022878</td>\n",
       "      <td>-87.524676</td>\n",
       "    </tr>\n",
       "  </tbody>\n",
       "</table>\n",
       "</div>"
      ],
      "text/plain": [
       "                 ID           Beat           Year       Latitude  \\\n",
       "count  1.916410e+05  191641.000000  191641.000000  189365.000000   \n",
       "mean   4.968629e+06    1258.810771    2006.134940      41.844555   \n",
       "std    2.342997e+06     702.530465       3.520285       0.085583   \n",
       "min    1.310022e+06     111.000000    2001.000000      41.644710   \n",
       "25%    2.832144e+06     722.000000    2003.000000      41.771618   \n",
       "50%    4.762956e+06    1121.000000    2006.000000      41.850029   \n",
       "75%    7.201878e+06    1733.000000    2009.000000      41.917116   \n",
       "max    9.181151e+06    2535.000000    2012.000000      42.022878   \n",
       "\n",
       "           Longitude  \n",
       "count  189365.000000  \n",
       "mean      -87.677782  \n",
       "std         0.057333  \n",
       "min       -87.925510  \n",
       "25%       -87.718474  \n",
       "50%       -87.677597  \n",
       "75%       -87.635513  \n",
       "max       -87.524676  "
      ]
     },
     "execution_count": 20,
     "metadata": {},
     "output_type": "execute_result"
    }
   ],
   "source": [
    "motorCrimeData.describe()"
   ]
  },
  {
   "cell_type": "markdown",
   "metadata": {},
   "source": [
    "#### Note: statistics package has been used to find the median. In the summary above, it doesn't take into account the columns of type 'object'. So 'statistics' package has been used to find the median of a column of type 'datetime'."
   ]
  },
  {
   "cell_type": "code",
   "execution_count": 13,
   "metadata": {
    "collapsed": true
   },
   "outputs": [],
   "source": [
    "import statistics"
   ]
  },
  {
   "cell_type": "code",
   "execution_count": 14,
   "metadata": {},
   "outputs": [
    {
     "data": {
      "text/plain": [
       "Timestamp('2006-05-21 12:30:00')"
      ]
     },
     "execution_count": 14,
     "metadata": {},
     "output_type": "execute_result"
    }
   ],
   "source": [
    "statistics.median(motorCrimeData['Date'])"
   ]
  },
  {
   "cell_type": "markdown",
   "metadata": {},
   "source": [
    "#### 9. In which month did the fewest motor vehicle thefts occur?"
   ]
  },
  {
   "cell_type": "markdown",
   "metadata": {},
   "source": [
    "<font color = 'green'>**Month and day have been extracted into separate columns below. DatetimeIndex is considered faster.** </font>"
   ]
  },
  {
   "cell_type": "code",
   "execution_count": 15,
   "metadata": {
    "collapsed": true
   },
   "outputs": [],
   "source": [
    "motorCrimeData['Month'] = pd.DatetimeIndex(motorCrimeData['Date']).month"
   ]
  },
  {
   "cell_type": "code",
   "execution_count": 16,
   "metadata": {
    "collapsed": true
   },
   "outputs": [],
   "source": [
    "motorCrimeData['Weekday'] = pd.DatetimeIndex(motorCrimeData['Date']).day"
   ]
  },
  {
   "cell_type": "code",
   "execution_count": 25,
   "metadata": {},
   "outputs": [
    {
     "data": {
      "text/html": [
       "<div>\n",
       "<style>\n",
       "    .dataframe thead tr:only-child th {\n",
       "        text-align: right;\n",
       "    }\n",
       "\n",
       "    .dataframe thead th {\n",
       "        text-align: left;\n",
       "    }\n",
       "\n",
       "    .dataframe tbody tr th {\n",
       "        vertical-align: top;\n",
       "    }\n",
       "</style>\n",
       "<table border=\"1\" class=\"dataframe\">\n",
       "  <thead>\n",
       "    <tr style=\"text-align: right;\">\n",
       "      <th></th>\n",
       "      <th>ID</th>\n",
       "      <th>Date</th>\n",
       "      <th>LocationDescription</th>\n",
       "      <th>Arrest</th>\n",
       "      <th>Domestic</th>\n",
       "      <th>Beat</th>\n",
       "      <th>District</th>\n",
       "      <th>CommunityArea</th>\n",
       "      <th>Year</th>\n",
       "      <th>Latitude</th>\n",
       "      <th>Longitude</th>\n",
       "      <th>Month</th>\n",
       "      <th>Weekday</th>\n",
       "    </tr>\n",
       "  </thead>\n",
       "  <tbody>\n",
       "    <tr>\n",
       "      <th>0</th>\n",
       "      <td>8951354</td>\n",
       "      <td>2012-12-31 23:15:00</td>\n",
       "      <td>STREET</td>\n",
       "      <td>False</td>\n",
       "      <td>False</td>\n",
       "      <td>623</td>\n",
       "      <td>6</td>\n",
       "      <td>69</td>\n",
       "      <td>2012</td>\n",
       "      <td>41.756284</td>\n",
       "      <td>-87.621645</td>\n",
       "      <td>12</td>\n",
       "      <td>31</td>\n",
       "    </tr>\n",
       "    <tr>\n",
       "      <th>1</th>\n",
       "      <td>8951141</td>\n",
       "      <td>2012-12-31 22:00:00</td>\n",
       "      <td>STREET</td>\n",
       "      <td>False</td>\n",
       "      <td>False</td>\n",
       "      <td>1213</td>\n",
       "      <td>12</td>\n",
       "      <td>24</td>\n",
       "      <td>2012</td>\n",
       "      <td>41.898788</td>\n",
       "      <td>-87.661303</td>\n",
       "      <td>12</td>\n",
       "      <td>31</td>\n",
       "    </tr>\n",
       "    <tr>\n",
       "      <th>2</th>\n",
       "      <td>8952745</td>\n",
       "      <td>2012-12-31 22:00:00</td>\n",
       "      <td>RESIDENTIAL YARD (FRONT/BACK)</td>\n",
       "      <td>False</td>\n",
       "      <td>False</td>\n",
       "      <td>1622</td>\n",
       "      <td>16</td>\n",
       "      <td>11</td>\n",
       "      <td>2012</td>\n",
       "      <td>41.969186</td>\n",
       "      <td>-87.767670</td>\n",
       "      <td>12</td>\n",
       "      <td>31</td>\n",
       "    </tr>\n",
       "    <tr>\n",
       "      <th>3</th>\n",
       "      <td>8952223</td>\n",
       "      <td>2012-12-31 22:00:00</td>\n",
       "      <td>STREET</td>\n",
       "      <td>False</td>\n",
       "      <td>False</td>\n",
       "      <td>724</td>\n",
       "      <td>7</td>\n",
       "      <td>67</td>\n",
       "      <td>2012</td>\n",
       "      <td>41.769329</td>\n",
       "      <td>-87.657726</td>\n",
       "      <td>12</td>\n",
       "      <td>31</td>\n",
       "    </tr>\n",
       "    <tr>\n",
       "      <th>4</th>\n",
       "      <td>8951608</td>\n",
       "      <td>2012-12-31 21:30:00</td>\n",
       "      <td>STREET</td>\n",
       "      <td>False</td>\n",
       "      <td>False</td>\n",
       "      <td>211</td>\n",
       "      <td>2</td>\n",
       "      <td>35</td>\n",
       "      <td>2012</td>\n",
       "      <td>41.837568</td>\n",
       "      <td>-87.621761</td>\n",
       "      <td>12</td>\n",
       "      <td>31</td>\n",
       "    </tr>\n",
       "  </tbody>\n",
       "</table>\n",
       "</div>"
      ],
      "text/plain": [
       "        ID                Date            LocationDescription  Arrest  \\\n",
       "0  8951354 2012-12-31 23:15:00                         STREET   False   \n",
       "1  8951141 2012-12-31 22:00:00                         STREET   False   \n",
       "2  8952745 2012-12-31 22:00:00  RESIDENTIAL YARD (FRONT/BACK)   False   \n",
       "3  8952223 2012-12-31 22:00:00                         STREET   False   \n",
       "4  8951608 2012-12-31 21:30:00                         STREET   False   \n",
       "\n",
       "   Domestic  Beat District CommunityArea  Year   Latitude  Longitude  Month  \\\n",
       "0     False   623        6            69  2012  41.756284 -87.621645     12   \n",
       "1     False  1213       12            24  2012  41.898788 -87.661303     12   \n",
       "2     False  1622       16            11  2012  41.969186 -87.767670     12   \n",
       "3     False   724        7            67  2012  41.769329 -87.657726     12   \n",
       "4     False   211        2            35  2012  41.837568 -87.621761     12   \n",
       "\n",
       "   Weekday  \n",
       "0       31  \n",
       "1       31  \n",
       "2       31  \n",
       "3       31  \n",
       "4       31  "
      ]
     },
     "execution_count": 25,
     "metadata": {},
     "output_type": "execute_result"
    }
   ],
   "source": [
    "motorCrimeData.head()"
   ]
  },
  {
   "cell_type": "code",
   "execution_count": 30,
   "metadata": {},
   "outputs": [
    {
     "data": {
      "text/plain": [
       "10    17086\n",
       "7     16801\n",
       "8     16572\n",
       "12    16426\n",
       "11    16063\n",
       "9     16060\n",
       "1     16047\n",
       "5     16035\n",
       "6     16002\n",
       "3     15758\n",
       "4     15280\n",
       "2     13511\n",
       "Name: Month, dtype: int64"
      ]
     },
     "execution_count": 30,
     "metadata": {},
     "output_type": "execute_result"
    }
   ],
   "source": [
    "motorCrimeData['Month'].value_counts()"
   ]
  },
  {
   "cell_type": "markdown",
   "metadata": {},
   "source": [
    "#### 10. On which weekday did the most motor vehicle thefts occur?"
   ]
  },
  {
   "cell_type": "code",
   "execution_count": 34,
   "metadata": {},
   "outputs": [
    {
     "data": {
      "text/plain": [
       "15    6690\n",
       "12    6455\n",
       "20    6453\n",
       "1     6446\n",
       "21    6410\n",
       "10    6404\n",
       "19    6388\n",
       "28    6386\n",
       "27    6379\n",
       "17    6361\n",
       "23    6361\n",
       "14    6355\n",
       "5     6339\n",
       "7     6329\n",
       "18    6304\n",
       "22    6278\n",
       "11    6254\n",
       "16    6243\n",
       "25    6230\n",
       "6     6219\n",
       "26    6218\n",
       "13    6208\n",
       "8     6184\n",
       "9     6180\n",
       "24    6155\n",
       "2     6098\n",
       "3     6096\n",
       "4     5947\n",
       "29    5862\n",
       "30    5750\n",
       "31    3659\n",
       "Name: Weekday, dtype: int64"
      ]
     },
     "execution_count": 34,
     "metadata": {},
     "output_type": "execute_result"
    }
   ],
   "source": [
    "motorCrimeData['Weekday'].value_counts()"
   ]
  },
  {
   "cell_type": "code",
   "execution_count": 17,
   "metadata": {
    "collapsed": true
   },
   "outputs": [],
   "source": [
    "motorCrimeData['dayOfWeek'] = pd.DatetimeIndex(motorCrimeData['Date']).dayofweek"
   ]
  },
  {
   "cell_type": "code",
   "execution_count": 18,
   "metadata": {},
   "outputs": [
    {
     "data": {
      "text/plain": [
       "4    29284\n",
       "2    27416\n",
       "0    27397\n",
       "3    27319\n",
       "5    27118\n",
       "1    26791\n",
       "6    26316\n",
       "Name: dayOfWeek, dtype: int64"
      ]
     },
     "execution_count": 18,
     "metadata": {},
     "output_type": "execute_result"
    }
   ],
   "source": [
    "motorCrimeData['dayOfWeek'].value_counts()"
   ]
  },
  {
   "cell_type": "markdown",
   "metadata": {},
   "source": [
    "#### 11. Each observation in the dataset represents a motor vehicle theft, and the Arrest variable indicates whether an arrest was later made for this theft. Which month has the largest number of motor vehicle thefts for which an arrest was made?"
   ]
  },
  {
   "cell_type": "code",
   "execution_count": 41,
   "metadata": {},
   "outputs": [
    {
     "data": {
      "text/plain": [
       "1     1435\n",
       "12    1397\n",
       "10    1342\n",
       "8     1329\n",
       "7     1324\n",
       "3     1298\n",
       "11    1256\n",
       "4     1252\n",
       "9     1248\n",
       "2     1238\n",
       "6     1230\n",
       "5     1187\n",
       "Name: Month, dtype: int64"
      ]
     },
     "execution_count": 41,
     "metadata": {},
     "output_type": "execute_result"
    }
   ],
   "source": [
    "motorCrimeData[motorCrimeData['Arrest'] == True]['Month'].value_counts()"
   ]
  },
  {
   "cell_type": "markdown",
   "metadata": {},
   "source": [
    "#### 12. Looking at the histogram, answer the following questions.\n",
    "\n",
    "#### a. In general, does it look like crime increases or decreases from 2002 - 2012?\n",
    "#### b. In general, does it look like crime increases or decreases from 2005 - 2008?\n",
    "#### c. In general, does it look like crime increases or decreases from 2009 - 2011?"
   ]
  },
  {
   "cell_type": "code",
   "execution_count": 5,
   "metadata": {
    "collapsed": true
   },
   "outputs": [],
   "source": [
    "%matplotlib inline\n",
    "import matplotlib.pyplot as plt"
   ]
  },
  {
   "cell_type": "code",
   "execution_count": 11,
   "metadata": {},
   "outputs": [
    {
     "data": {
      "text/plain": [
       "(array([ 20669.,      0.,      0.,      0.,      0.,      0.,      0.,\n",
       "             0.,      0.,  18753.,      0.,      0.,      0.,      0.,\n",
       "             0.,      0.,      0.,      0.,  16657.,      0.,      0.,\n",
       "             0.,      0.,      0.,      0.,      0.,      0.,  16862.,\n",
       "             0.,      0.,      0.,      0.,      0.,      0.,      0.,\n",
       "             0.,  16484.,      0.,      0.,      0.,      0.,      0.,\n",
       "             0.,      0.,      0.,  16098.,      0.,      0.,      0.,\n",
       "             0.,      0.,      0.,      0.,      0.,  14280.,      0.,\n",
       "             0.,      0.,      0.,      0.,      0.,      0.,      0.,\n",
       "         14445.,      0.,      0.,      0.,      0.,      0.,      0.,\n",
       "             0.,      0.,  12167.,      0.,      0.,      0.,      0.,\n",
       "             0.,      0.,      0.,      0.,  15497.,      0.,      0.,\n",
       "             0.,      0.,      0.,      0.,      0.,      0.,  15637.,\n",
       "             0.,      0.,      0.,      0.,      0.,      0.,      0.,\n",
       "             0.,  14092.]),\n",
       " array([ 2001.  ,  2001.11,  2001.22,  2001.33,  2001.44,  2001.55,\n",
       "         2001.66,  2001.77,  2001.88,  2001.99,  2002.1 ,  2002.21,\n",
       "         2002.32,  2002.43,  2002.54,  2002.65,  2002.76,  2002.87,\n",
       "         2002.98,  2003.09,  2003.2 ,  2003.31,  2003.42,  2003.53,\n",
       "         2003.64,  2003.75,  2003.86,  2003.97,  2004.08,  2004.19,\n",
       "         2004.3 ,  2004.41,  2004.52,  2004.63,  2004.74,  2004.85,\n",
       "         2004.96,  2005.07,  2005.18,  2005.29,  2005.4 ,  2005.51,\n",
       "         2005.62,  2005.73,  2005.84,  2005.95,  2006.06,  2006.17,\n",
       "         2006.28,  2006.39,  2006.5 ,  2006.61,  2006.72,  2006.83,\n",
       "         2006.94,  2007.05,  2007.16,  2007.27,  2007.38,  2007.49,\n",
       "         2007.6 ,  2007.71,  2007.82,  2007.93,  2008.04,  2008.15,\n",
       "         2008.26,  2008.37,  2008.48,  2008.59,  2008.7 ,  2008.81,\n",
       "         2008.92,  2009.03,  2009.14,  2009.25,  2009.36,  2009.47,\n",
       "         2009.58,  2009.69,  2009.8 ,  2009.91,  2010.02,  2010.13,\n",
       "         2010.24,  2010.35,  2010.46,  2010.57,  2010.68,  2010.79,\n",
       "         2010.9 ,  2011.01,  2011.12,  2011.23,  2011.34,  2011.45,\n",
       "         2011.56,  2011.67,  2011.78,  2011.89,  2012.  ]),\n",
       " <a list of 100 Patch objects>)"
      ]
     },
     "execution_count": 11,
     "metadata": {},
     "output_type": "execute_result"
    },
    {
     "data": {
      "image/png": "[encoded data removed]",
      "text/plain": [
       "<matplotlib.figure.Figure at 0x18c4eefbc50>"
      ]
     },
     "metadata": {},
     "output_type": "display_data"
    }
   ],
   "source": [
    "#len(list(motorCrimeData['Date']))\n",
    "plt.figure(figsize=(20, 10))\n",
    "\n",
    "plt.hist(motorCrimeData['Year'], bins=100)"
   ]
  },
  {
   "cell_type": "markdown",
   "metadata": {},
   "source": [
    "#### 13. Does it look like there were more crimes for which arrests were made in the first half of the time period or the second half of the time period? (Note that the time period is from 2001 to 2012, so the middle of the time period is the beginning of 2007.)\n",
    "\n",
    "##### Reason for using '.values' inside the boxplot function, https://stackoverflow.com/questions/12406162/keyerror-when-plotting-a-sliced-pandas-dataframe-with-datetimes"
   ]
  },
  {
   "cell_type": "code",
   "execution_count": 32,
   "metadata": {},
   "outputs": [
    {
     "data": {
      "text/plain": [
       "<matplotlib.text.Text at 0x18c48eabbe0>"
      ]
     },
     "execution_count": 32,
     "metadata": {},
     "output_type": "execute_result"
    },
    {
     "data": {
      "image/png": "[encoded data removed]",
      "text/plain": [
       "<matplotlib.figure.Figure at 0x18c49af95c0>"
      ]
     },
     "metadata": {},
     "output_type": "display_data"
    }
   ],
   "source": [
    "motorDataSortedByArrest = motorCrimeData[motorCrimeData['Arrest'] == True]\n",
    "\n",
    "motorDataSortedByArrest.head()\n",
    "#len(motorDataSortedByArrest)\n",
    "plt.boxplot(motorDataSortedByArrest['Year'].values)\n",
    "\n",
    "plt.title('Boxplot of year based on Arrest')\n",
    "plt.ylabel('Year')\n",
    "plt.xlabel('Arrest')\n",
    "\n",
    "#pd.__version__"
   ]
  },
  {
   "cell_type": "markdown",
   "metadata": {},
   "source": [
    "#### 14. For what proportion of motor vehicle thefts in 2001 was an arrest made?"
   ]
  },
  {
   "cell_type": "code",
   "execution_count": 34,
   "metadata": {},
   "outputs": [
    {
     "data": {
      "text/html": [
       "<div>\n",
       "<style>\n",
       "    .dataframe thead tr:only-child th {\n",
       "        text-align: right;\n",
       "    }\n",
       "\n",
       "    .dataframe thead th {\n",
       "        text-align: left;\n",
       "    }\n",
       "\n",
       "    .dataframe tbody tr th {\n",
       "        vertical-align: top;\n",
       "    }\n",
       "</style>\n",
       "<table border=\"1\" class=\"dataframe\">\n",
       "  <thead>\n",
       "    <tr style=\"text-align: right;\">\n",
       "      <th>Arrest</th>\n",
       "      <th>False</th>\n",
       "      <th>True</th>\n",
       "    </tr>\n",
       "    <tr>\n",
       "      <th>Year</th>\n",
       "      <th></th>\n",
       "      <th></th>\n",
       "    </tr>\n",
       "  </thead>\n",
       "  <tbody>\n",
       "    <tr>\n",
       "      <th>2001</th>\n",
       "      <td>18517</td>\n",
       "      <td>2152</td>\n",
       "    </tr>\n",
       "    <tr>\n",
       "      <th>2002</th>\n",
       "      <td>16638</td>\n",
       "      <td>2115</td>\n",
       "    </tr>\n",
       "    <tr>\n",
       "      <th>2003</th>\n",
       "      <td>14859</td>\n",
       "      <td>1798</td>\n",
       "    </tr>\n",
       "    <tr>\n",
       "      <th>2004</th>\n",
       "      <td>15169</td>\n",
       "      <td>1693</td>\n",
       "    </tr>\n",
       "    <tr>\n",
       "      <th>2005</th>\n",
       "      <td>14956</td>\n",
       "      <td>1528</td>\n",
       "    </tr>\n",
       "    <tr>\n",
       "      <th>2006</th>\n",
       "      <td>14796</td>\n",
       "      <td>1302</td>\n",
       "    </tr>\n",
       "    <tr>\n",
       "      <th>2007</th>\n",
       "      <td>13068</td>\n",
       "      <td>1212</td>\n",
       "    </tr>\n",
       "    <tr>\n",
       "      <th>2008</th>\n",
       "      <td>13425</td>\n",
       "      <td>1020</td>\n",
       "    </tr>\n",
       "    <tr>\n",
       "      <th>2009</th>\n",
       "      <td>11327</td>\n",
       "      <td>840</td>\n",
       "    </tr>\n",
       "    <tr>\n",
       "      <th>2010</th>\n",
       "      <td>14796</td>\n",
       "      <td>701</td>\n",
       "    </tr>\n",
       "    <tr>\n",
       "      <th>2011</th>\n",
       "      <td>15012</td>\n",
       "      <td>625</td>\n",
       "    </tr>\n",
       "    <tr>\n",
       "      <th>2012</th>\n",
       "      <td>13542</td>\n",
       "      <td>550</td>\n",
       "    </tr>\n",
       "  </tbody>\n",
       "</table>\n",
       "</div>"
      ],
      "text/plain": [
       "Arrest  False  True \n",
       "Year                \n",
       "2001    18517   2152\n",
       "2002    16638   2115\n",
       "2003    14859   1798\n",
       "2004    15169   1693\n",
       "2005    14956   1528\n",
       "2006    14796   1302\n",
       "2007    13068   1212\n",
       "2008    13425   1020\n",
       "2009    11327    840\n",
       "2010    14796    701\n",
       "2011    15012    625\n",
       "2012    13542    550"
      ]
     },
     "execution_count": 34,
     "metadata": {},
     "output_type": "execute_result"
    }
   ],
   "source": [
    "pd.crosstab(index=motorCrimeData['Year'], columns=motorCrimeData['Arrest'])\n",
    "\n",
    "# 0.1041173 (2152 / (2152 + 18517))"
   ]
  },
  {
   "cell_type": "markdown",
   "metadata": {},
   "source": [
    "#### 15. For what proportion of motor vehicle thefts in 2007 was an arrest made?"
   ]
  },
  {
   "cell_type": "code",
   "execution_count": 35,
   "metadata": {},
   "outputs": [
    {
     "data": {
      "text/html": [
       "<div>\n",
       "<style>\n",
       "    .dataframe thead tr:only-child th {\n",
       "        text-align: right;\n",
       "    }\n",
       "\n",
       "    .dataframe thead th {\n",
       "        text-align: left;\n",
       "    }\n",
       "\n",
       "    .dataframe tbody tr th {\n",
       "        vertical-align: top;\n",
       "    }\n",
       "</style>\n",
       "<table border=\"1\" class=\"dataframe\">\n",
       "  <thead>\n",
       "    <tr style=\"text-align: right;\">\n",
       "      <th>Arrest</th>\n",
       "      <th>False</th>\n",
       "      <th>True</th>\n",
       "    </tr>\n",
       "    <tr>\n",
       "      <th>Year</th>\n",
       "      <th></th>\n",
       "      <th></th>\n",
       "    </tr>\n",
       "  </thead>\n",
       "  <tbody>\n",
       "    <tr>\n",
       "      <th>2001</th>\n",
       "      <td>18517</td>\n",
       "      <td>2152</td>\n",
       "    </tr>\n",
       "    <tr>\n",
       "      <th>2002</th>\n",
       "      <td>16638</td>\n",
       "      <td>2115</td>\n",
       "    </tr>\n",
       "    <tr>\n",
       "      <th>2003</th>\n",
       "      <td>14859</td>\n",
       "      <td>1798</td>\n",
       "    </tr>\n",
       "    <tr>\n",
       "      <th>2004</th>\n",
       "      <td>15169</td>\n",
       "      <td>1693</td>\n",
       "    </tr>\n",
       "    <tr>\n",
       "      <th>2005</th>\n",
       "      <td>14956</td>\n",
       "      <td>1528</td>\n",
       "    </tr>\n",
       "    <tr>\n",
       "      <th>2006</th>\n",
       "      <td>14796</td>\n",
       "      <td>1302</td>\n",
       "    </tr>\n",
       "    <tr>\n",
       "      <th>2007</th>\n",
       "      <td>13068</td>\n",
       "      <td>1212</td>\n",
       "    </tr>\n",
       "    <tr>\n",
       "      <th>2008</th>\n",
       "      <td>13425</td>\n",
       "      <td>1020</td>\n",
       "    </tr>\n",
       "    <tr>\n",
       "      <th>2009</th>\n",
       "      <td>11327</td>\n",
       "      <td>840</td>\n",
       "    </tr>\n",
       "    <tr>\n",
       "      <th>2010</th>\n",
       "      <td>14796</td>\n",
       "      <td>701</td>\n",
       "    </tr>\n",
       "    <tr>\n",
       "      <th>2011</th>\n",
       "      <td>15012</td>\n",
       "      <td>625</td>\n",
       "    </tr>\n",
       "    <tr>\n",
       "      <th>2012</th>\n",
       "      <td>13542</td>\n",
       "      <td>550</td>\n",
       "    </tr>\n",
       "  </tbody>\n",
       "</table>\n",
       "</div>"
      ],
      "text/plain": [
       "Arrest  False  True \n",
       "Year                \n",
       "2001    18517   2152\n",
       "2002    16638   2115\n",
       "2003    14859   1798\n",
       "2004    15169   1693\n",
       "2005    14956   1528\n",
       "2006    14796   1302\n",
       "2007    13068   1212\n",
       "2008    13425   1020\n",
       "2009    11327    840\n",
       "2010    14796    701\n",
       "2011    15012    625\n",
       "2012    13542    550"
      ]
     },
     "execution_count": 35,
     "metadata": {},
     "output_type": "execute_result"
    }
   ],
   "source": [
    "pd.crosstab(index=motorCrimeData['Year'], columns=motorCrimeData['Arrest'])\n",
    "\n",
    "# 0.084873 (1212 / (1212 + 13068))"
   ]
  },
  {
   "cell_type": "markdown",
   "metadata": {},
   "source": [
    "#### 16. For what proportion of motor vehicle thefts in 2012 was an arrest made?"
   ]
  },
  {
   "cell_type": "code",
   "execution_count": 37,
   "metadata": {},
   "outputs": [
    {
     "data": {
      "text/html": [
       "<div>\n",
       "<style>\n",
       "    .dataframe thead tr:only-child th {\n",
       "        text-align: right;\n",
       "    }\n",
       "\n",
       "    .dataframe thead th {\n",
       "        text-align: left;\n",
       "    }\n",
       "\n",
       "    .dataframe tbody tr th {\n",
       "        vertical-align: top;\n",
       "    }\n",
       "</style>\n",
       "<table border=\"1\" class=\"dataframe\">\n",
       "  <thead>\n",
       "    <tr style=\"text-align: right;\">\n",
       "      <th>Arrest</th>\n",
       "      <th>False</th>\n",
       "      <th>True</th>\n",
       "    </tr>\n",
       "    <tr>\n",
       "      <th>Year</th>\n",
       "      <th></th>\n",
       "      <th></th>\n",
       "    </tr>\n",
       "  </thead>\n",
       "  <tbody>\n",
       "    <tr>\n",
       "      <th>2001</th>\n",
       "      <td>18517</td>\n",
       "      <td>2152</td>\n",
       "    </tr>\n",
       "    <tr>\n",
       "      <th>2002</th>\n",
       "      <td>16638</td>\n",
       "      <td>2115</td>\n",
       "    </tr>\n",
       "    <tr>\n",
       "      <th>2003</th>\n",
       "      <td>14859</td>\n",
       "      <td>1798</td>\n",
       "    </tr>\n",
       "    <tr>\n",
       "      <th>2004</th>\n",
       "      <td>15169</td>\n",
       "      <td>1693</td>\n",
       "    </tr>\n",
       "    <tr>\n",
       "      <th>2005</th>\n",
       "      <td>14956</td>\n",
       "      <td>1528</td>\n",
       "    </tr>\n",
       "    <tr>\n",
       "      <th>2006</th>\n",
       "      <td>14796</td>\n",
       "      <td>1302</td>\n",
       "    </tr>\n",
       "    <tr>\n",
       "      <th>2007</th>\n",
       "      <td>13068</td>\n",
       "      <td>1212</td>\n",
       "    </tr>\n",
       "    <tr>\n",
       "      <th>2008</th>\n",
       "      <td>13425</td>\n",
       "      <td>1020</td>\n",
       "    </tr>\n",
       "    <tr>\n",
       "      <th>2009</th>\n",
       "      <td>11327</td>\n",
       "      <td>840</td>\n",
       "    </tr>\n",
       "    <tr>\n",
       "      <th>2010</th>\n",
       "      <td>14796</td>\n",
       "      <td>701</td>\n",
       "    </tr>\n",
       "    <tr>\n",
       "      <th>2011</th>\n",
       "      <td>15012</td>\n",
       "      <td>625</td>\n",
       "    </tr>\n",
       "    <tr>\n",
       "      <th>2012</th>\n",
       "      <td>13542</td>\n",
       "      <td>550</td>\n",
       "    </tr>\n",
       "  </tbody>\n",
       "</table>\n",
       "</div>"
      ],
      "text/plain": [
       "Arrest  False  True \n",
       "Year                \n",
       "2001    18517   2152\n",
       "2002    16638   2115\n",
       "2003    14859   1798\n",
       "2004    15169   1693\n",
       "2005    14956   1528\n",
       "2006    14796   1302\n",
       "2007    13068   1212\n",
       "2008    13425   1020\n",
       "2009    11327    840\n",
       "2010    14796    701\n",
       "2011    15012    625\n",
       "2012    13542    550"
      ]
     },
     "execution_count": 37,
     "metadata": {},
     "output_type": "execute_result"
    }
   ],
   "source": [
    "pd.crosstab(index=motorCrimeData['Year'], columns=motorCrimeData['Arrest'])\n",
    "\n",
    "# 0.039029 550/(550 + 13542)"
   ]
  },
  {
   "cell_type": "markdown",
   "metadata": {},
   "source": [
    "#### 17. Which locations are the top five locations for motor vehicle thefts, excluding the \"Other\" category? (Select top 5)"
   ]
  },
  {
   "cell_type": "code",
   "execution_count": 39,
   "metadata": {},
   "outputs": [
    {
     "data": {
      "text/plain": [
       "STREET                                             156564\n",
       "PARKING LOT/GARAGE(NON.RESID.)                      14852\n",
       "OTHER                                                4573\n",
       "ALLEY                                                2308\n",
       "GAS STATION                                          2111\n",
       "DRIVEWAY - RESIDENTIAL                               1675\n",
       "RESIDENTIAL YARD (FRONT/BACK)                        1536\n",
       "RESIDENCE                                            1302\n",
       "RESIDENCE-GARAGE                                     1176\n",
       "VACANT LOT/LAND                                       985\n",
       "VEHICLE NON-COMMERCIAL                                817\n",
       "SIDEWALK                                              462\n",
       "CHA PARKING LOT/GROUNDS                               405\n",
       "AIRPORT/AIRCRAFT                                      363\n",
       "POLICE FACILITY/VEH PARKING LOT                       266\n",
       "PARK PROPERTY                                         255\n",
       "SCHOOL, PUBLIC, GROUNDS                               206\n",
       "APARTMENT                                             184\n",
       "SPORTS ARENA/STADIUM                                  166\n",
       "CTA GARAGE / OTHER PROPERTY                           148\n",
       "COMMERCIAL / BUSINESS OFFICE                          126\n",
       "HOTEL/MOTEL                                           124\n",
       "SCHOOL, PUBLIC, BUILDING                              114\n",
       "HOSPITAL BUILDING/GROUNDS                             101\n",
       "GROCERY FOOD STORE                                     80\n",
       "CHURCH/SYNAGOGUE/PLACE OF WORSHIP                      56\n",
       "RESTAURANT                                             49\n",
       "GOVERNMENT BUILDING/PROPERTY                           48\n",
       "COLLEGE/UNIVERSITY GROUNDS                             47\n",
       "CAR WASH                                               44\n",
       "                                                    ...  \n",
       "AIRPORT VENDING ESTABLISHMENT                          10\n",
       "ATHLETIC CLUB                                           9\n",
       "DRUG STORE                                              8\n",
       "OTHER COMMERCIAL TRANSPORTATION                         8\n",
       "CONVENIENCE STORE                                       7\n",
       "BANK                                                    7\n",
       "FOREST PRESERVE                                         6\n",
       "FIRE STATION                                            5\n",
       "DAY CARE CENTER                                         5\n",
       "AIRPORT TERMINAL UPPER LEVEL - NON-SECURE AREA          5\n",
       "CHA APARTMENT                                           5\n",
       "AIRPORT BUILDING NON-TERMINAL - NON-SECURE AREA         4\n",
       "BARBERSHOP                                              4\n",
       "LAKEFRONT/WATERFRONT/RIVERBANK                          4\n",
       "SAVINGS AND LOAN                                        4\n",
       "ABANDONED BUILDING                                      4\n",
       "LIBRARY                                                 4\n",
       "MEDICAL/DENTAL OFFICE                                   3\n",
       "CLEANING STORE                                          3\n",
       "BOWLING ALLEY                                           3\n",
       "COLLEGE/UNIVERSITY RESIDENCE HALL                       2\n",
       "CURRENCY EXCHANGE                                       2\n",
       "BRIDGE                                                  2\n",
       "AIRPORT EXTERIOR - SECURE AREA                          1\n",
       "NEWSSTAND                                               1\n",
       "ANIMAL HOSPITAL                                         1\n",
       "CTA TRAIN                                               1\n",
       "APPLIANCE STORE                                         1\n",
       "AIRPORT BUILDING NON-TERMINAL - SECURE AREA             1\n",
       "JAIL / LOCK-UP FACILITY                                 1\n",
       "Name: LocationDescription, Length: 78, dtype: int64"
      ]
     },
     "execution_count": 39,
     "metadata": {},
     "output_type": "execute_result"
    }
   ],
   "source": [
    "motorCrimeData['LocationDescription'].value_counts()"
   ]
  },
  {
   "cell_type": "markdown",
   "metadata": {},
   "source": [
    "#### 18. Create a subset of your data, only taking observations for which the theft happened in one of these five locations above. How many observations are in Top5?"
   ]
  },
  {
   "cell_type": "code",
   "execution_count": 47,
   "metadata": {},
   "outputs": [
    {
     "data": {
      "text/plain": [
       "177510"
      ]
     },
     "execution_count": 47,
     "metadata": {},
     "output_type": "execute_result"
    }
   ],
   "source": [
    "top5 = ['STREET', 'PARKING LOT/GARAGE(NON.RESID.)', 'ALLEY', 'GAS STATION', 'DRIVEWAY - RESIDENTIAL']\n",
    "top5Locations = motorCrimeData[motorCrimeData['LocationDescription'].isin(top5)]\n",
    "len(top5Locations)"
   ]
  },
  {
   "cell_type": "markdown",
   "metadata": {},
   "source": [
    "#### 19. One of the locations has a much higher arrest rate than the other locations. Which is it?"
   ]
  },
  {
   "cell_type": "code",
   "execution_count": 50,
   "metadata": {},
   "outputs": [
    {
     "data": {
      "text/html": [
       "<div>\n",
       "<style>\n",
       "    .dataframe thead tr:only-child th {\n",
       "        text-align: right;\n",
       "    }\n",
       "\n",
       "    .dataframe thead th {\n",
       "        text-align: left;\n",
       "    }\n",
       "\n",
       "    .dataframe tbody tr th {\n",
       "        vertical-align: top;\n",
       "    }\n",
       "</style>\n",
       "<table border=\"1\" class=\"dataframe\">\n",
       "  <thead>\n",
       "    <tr style=\"text-align: right;\">\n",
       "      <th>Arrest</th>\n",
       "      <th>False</th>\n",
       "      <th>True</th>\n",
       "    </tr>\n",
       "    <tr>\n",
       "      <th>LocationDescription</th>\n",
       "      <th></th>\n",
       "      <th></th>\n",
       "    </tr>\n",
       "  </thead>\n",
       "  <tbody>\n",
       "    <tr>\n",
       "      <th>ALLEY</th>\n",
       "      <td>2059</td>\n",
       "      <td>249</td>\n",
       "    </tr>\n",
       "    <tr>\n",
       "      <th>DRIVEWAY - RESIDENTIAL</th>\n",
       "      <td>1543</td>\n",
       "      <td>132</td>\n",
       "    </tr>\n",
       "    <tr>\n",
       "      <th>GAS STATION</th>\n",
       "      <td>1672</td>\n",
       "      <td>439</td>\n",
       "    </tr>\n",
       "    <tr>\n",
       "      <th>PARKING LOT/GARAGE(NON.RESID.)</th>\n",
       "      <td>13249</td>\n",
       "      <td>1603</td>\n",
       "    </tr>\n",
       "    <tr>\n",
       "      <th>STREET</th>\n",
       "      <td>144969</td>\n",
       "      <td>11595</td>\n",
       "    </tr>\n",
       "  </tbody>\n",
       "</table>\n",
       "</div>"
      ],
      "text/plain": [
       "Arrest                           False  True \n",
       "LocationDescription                          \n",
       "ALLEY                             2059    249\n",
       "DRIVEWAY - RESIDENTIAL            1543    132\n",
       "GAS STATION                       1672    439\n",
       "PARKING LOT/GARAGE(NON.RESID.)   13249   1603\n",
       "STREET                          144969  11595"
      ]
     },
     "execution_count": 50,
     "metadata": {},
     "output_type": "execute_result"
    }
   ],
   "source": [
    "pd.crosstab(index=top5Locations['LocationDescription'],columns=top5Locations['Arrest'])\n",
    "\n",
    "# GAS STATION"
   ]
  },
  {
   "cell_type": "markdown",
   "metadata": {},
   "source": [
    "#### 20. On which day of the week do the most motor vehicle thefts at gas stations happen?"
   ]
  },
  {
   "cell_type": "code",
   "execution_count": 53,
   "metadata": {},
   "outputs": [
    {
     "data": {
      "text/html": [
       "<div>\n",
       "<style>\n",
       "    .dataframe thead tr:only-child th {\n",
       "        text-align: right;\n",
       "    }\n",
       "\n",
       "    .dataframe thead th {\n",
       "        text-align: left;\n",
       "    }\n",
       "\n",
       "    .dataframe tbody tr th {\n",
       "        vertical-align: top;\n",
       "    }\n",
       "</style>\n",
       "<table border=\"1\" class=\"dataframe\">\n",
       "  <thead>\n",
       "    <tr style=\"text-align: right;\">\n",
       "      <th>dayOfWeek</th>\n",
       "      <th>0</th>\n",
       "      <th>1</th>\n",
       "      <th>2</th>\n",
       "      <th>3</th>\n",
       "      <th>4</th>\n",
       "      <th>5</th>\n",
       "      <th>6</th>\n",
       "    </tr>\n",
       "    <tr>\n",
       "      <th>LocationDescription</th>\n",
       "      <th></th>\n",
       "      <th></th>\n",
       "      <th></th>\n",
       "      <th></th>\n",
       "      <th></th>\n",
       "      <th></th>\n",
       "      <th></th>\n",
       "    </tr>\n",
       "  </thead>\n",
       "  <tbody>\n",
       "    <tr>\n",
       "      <th>ALLEY</th>\n",
       "      <td>320</td>\n",
       "      <td>323</td>\n",
       "      <td>317</td>\n",
       "      <td>315</td>\n",
       "      <td>385</td>\n",
       "      <td>341</td>\n",
       "      <td>307</td>\n",
       "    </tr>\n",
       "    <tr>\n",
       "      <th>DRIVEWAY - RESIDENTIAL</th>\n",
       "      <td>255</td>\n",
       "      <td>243</td>\n",
       "      <td>234</td>\n",
       "      <td>263</td>\n",
       "      <td>257</td>\n",
       "      <td>202</td>\n",
       "      <td>221</td>\n",
       "    </tr>\n",
       "    <tr>\n",
       "      <th>GAS STATION</th>\n",
       "      <td>280</td>\n",
       "      <td>270</td>\n",
       "      <td>273</td>\n",
       "      <td>282</td>\n",
       "      <td>332</td>\n",
       "      <td>338</td>\n",
       "      <td>336</td>\n",
       "    </tr>\n",
       "    <tr>\n",
       "      <th>PARKING LOT/GARAGE(NON.RESID.)</th>\n",
       "      <td>2128</td>\n",
       "      <td>2073</td>\n",
       "      <td>2103</td>\n",
       "      <td>2082</td>\n",
       "      <td>2331</td>\n",
       "      <td>2199</td>\n",
       "      <td>1936</td>\n",
       "    </tr>\n",
       "    <tr>\n",
       "      <th>STREET</th>\n",
       "      <td>22305</td>\n",
       "      <td>21888</td>\n",
       "      <td>22371</td>\n",
       "      <td>22296</td>\n",
       "      <td>23773</td>\n",
       "      <td>22175</td>\n",
       "      <td>21756</td>\n",
       "    </tr>\n",
       "  </tbody>\n",
       "</table>\n",
       "</div>"
      ],
      "text/plain": [
       "dayOfWeek                           0      1      2      3      4      5  \\\n",
       "LocationDescription                                                        \n",
       "ALLEY                             320    323    317    315    385    341   \n",
       "DRIVEWAY - RESIDENTIAL            255    243    234    263    257    202   \n",
       "GAS STATION                       280    270    273    282    332    338   \n",
       "PARKING LOT/GARAGE(NON.RESID.)   2128   2073   2103   2082   2331   2199   \n",
       "STREET                          22305  21888  22371  22296  23773  22175   \n",
       "\n",
       "dayOfWeek                           6  \n",
       "LocationDescription                    \n",
       "ALLEY                             307  \n",
       "DRIVEWAY - RESIDENTIAL            221  \n",
       "GAS STATION                       336  \n",
       "PARKING LOT/GARAGE(NON.RESID.)   1936  \n",
       "STREET                          21756  "
      ]
     },
     "execution_count": 53,
     "metadata": {},
     "output_type": "execute_result"
    }
   ],
   "source": [
    "pd.crosstab(index=top5Locations['LocationDescription'], columns=top5Locations['dayOfWeek'])\n",
    "\n",
    "# Saturday"
   ]
  },
  {
   "cell_type": "markdown",
   "metadata": {},
   "source": [
    "#### 21. On which day of the week do the fewest motor vehicle thefts in residential driveways happen?"
   ]
  },
  {
   "cell_type": "code",
   "execution_count": 54,
   "metadata": {},
   "outputs": [
    {
     "data": {
      "text/html": [
       "<div>\n",
       "<style>\n",
       "    .dataframe thead tr:only-child th {\n",
       "        text-align: right;\n",
       "    }\n",
       "\n",
       "    .dataframe thead th {\n",
       "        text-align: left;\n",
       "    }\n",
       "\n",
       "    .dataframe tbody tr th {\n",
       "        vertical-align: top;\n",
       "    }\n",
       "</style>\n",
       "<table border=\"1\" class=\"dataframe\">\n",
       "  <thead>\n",
       "    <tr style=\"text-align: right;\">\n",
       "      <th>dayOfWeek</th>\n",
       "      <th>0</th>\n",
       "      <th>1</th>\n",
       "      <th>2</th>\n",
       "      <th>3</th>\n",
       "      <th>4</th>\n",
       "      <th>5</th>\n",
       "      <th>6</th>\n",
       "    </tr>\n",
       "    <tr>\n",
       "      <th>LocationDescription</th>\n",
       "      <th></th>\n",
       "      <th></th>\n",
       "      <th></th>\n",
       "      <th></th>\n",
       "      <th></th>\n",
       "      <th></th>\n",
       "      <th></th>\n",
       "    </tr>\n",
       "  </thead>\n",
       "  <tbody>\n",
       "    <tr>\n",
       "      <th>ALLEY</th>\n",
       "      <td>320</td>\n",
       "      <td>323</td>\n",
       "      <td>317</td>\n",
       "      <td>315</td>\n",
       "      <td>385</td>\n",
       "      <td>341</td>\n",
       "      <td>307</td>\n",
       "    </tr>\n",
       "    <tr>\n",
       "      <th>DRIVEWAY - RESIDENTIAL</th>\n",
       "      <td>255</td>\n",
       "      <td>243</td>\n",
       "      <td>234</td>\n",
       "      <td>263</td>\n",
       "      <td>257</td>\n",
       "      <td>202</td>\n",
       "      <td>221</td>\n",
       "    </tr>\n",
       "    <tr>\n",
       "      <th>GAS STATION</th>\n",
       "      <td>280</td>\n",
       "      <td>270</td>\n",
       "      <td>273</td>\n",
       "      <td>282</td>\n",
       "      <td>332</td>\n",
       "      <td>338</td>\n",
       "      <td>336</td>\n",
       "    </tr>\n",
       "    <tr>\n",
       "      <th>PARKING LOT/GARAGE(NON.RESID.)</th>\n",
       "      <td>2128</td>\n",
       "      <td>2073</td>\n",
       "      <td>2103</td>\n",
       "      <td>2082</td>\n",
       "      <td>2331</td>\n",
       "      <td>2199</td>\n",
       "      <td>1936</td>\n",
       "    </tr>\n",
       "    <tr>\n",
       "      <th>STREET</th>\n",
       "      <td>22305</td>\n",
       "      <td>21888</td>\n",
       "      <td>22371</td>\n",
       "      <td>22296</td>\n",
       "      <td>23773</td>\n",
       "      <td>22175</td>\n",
       "      <td>21756</td>\n",
       "    </tr>\n",
       "  </tbody>\n",
       "</table>\n",
       "</div>"
      ],
      "text/plain": [
       "dayOfWeek                           0      1      2      3      4      5  \\\n",
       "LocationDescription                                                        \n",
       "ALLEY                             320    323    317    315    385    341   \n",
       "DRIVEWAY - RESIDENTIAL            255    243    234    263    257    202   \n",
       "GAS STATION                       280    270    273    282    332    338   \n",
       "PARKING LOT/GARAGE(NON.RESID.)   2128   2073   2103   2082   2331   2199   \n",
       "STREET                          22305  21888  22371  22296  23773  22175   \n",
       "\n",
       "dayOfWeek                           6  \n",
       "LocationDescription                    \n",
       "ALLEY                             307  \n",
       "DRIVEWAY - RESIDENTIAL            221  \n",
       "GAS STATION                       336  \n",
       "PARKING LOT/GARAGE(NON.RESID.)   1936  \n",
       "STREET                          21756  "
      ]
     },
     "execution_count": 54,
     "metadata": {},
     "output_type": "execute_result"
    }
   ],
   "source": [
    "pd.crosstab(index=top5Locations['LocationDescription'], columns=top5Locations['dayOfWeek'])\n",
    "\n",
    "# Saturday (again)"
   ]
  }
 ],
 "metadata": {
  "kernelspec": {
   "display_name": "Python 3",
   "language": "python",
   "name": "python3"
  },
  "language_info": {
   "codemirror_mode": {
    "name": "ipython",
    "version": 3
   },
   "file_extension": ".py",
   "mimetype": "text/x-python",
   "name": "python",
   "nbconvert_exporter": "python",
   "pygments_lexer": "ipython3",
   "version": "3.6.1"
  }
 },
 "nbformat": 4,
 "nbformat_minor": 2
}

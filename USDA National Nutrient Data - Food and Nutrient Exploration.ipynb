{
 "cells": [
  {
   "cell_type": "code",
   "execution_count": 1,
   "metadata": {
    "collapsed": true
   },
   "outputs": [],
   "source": [
    "import pandas as pd"
   ]
  },
  {
   "cell_type": "code",
   "execution_count": 30,
   "metadata": {
    "collapsed": true
   },
   "outputs": [],
   "source": [
    "import numpy as np"
   ]
  },
  {
   "cell_type": "code",
   "execution_count": 91,
   "metadata": {
    "collapsed": true
   },
   "outputs": [],
   "source": [
    "%matplotlib inline\n",
    "\n",
    "import matplotlib.pyplot as plt"
   ]
  },
  {
   "cell_type": "code",
   "execution_count": 59,
   "metadata": {
    "collapsed": true
   },
   "outputs": [],
   "source": [
    "usda = pd.read_csv('USDA.csv')"
   ]
  },
  {
   "cell_type": "code",
   "execution_count": 60,
   "metadata": {},
   "outputs": [
    {
     "name": "stdout",
     "output_type": "stream",
     "text": [
      "<class 'pandas.core.frame.DataFrame'>\n",
      "RangeIndex: 7058 entries, 0 to 7057\n",
      "Data columns (total 16 columns):\n",
      "ID              7058 non-null int64\n",
      "Description     7058 non-null object\n",
      "Calories        7057 non-null float64\n",
      "Protein         7057 non-null float64\n",
      "TotalFat        7057 non-null float64\n",
      "Carbohydrate    7057 non-null float64\n",
      "Sodium          6974 non-null float64\n",
      "SaturatedFat    6757 non-null float64\n",
      "Cholesterol     6770 non-null float64\n",
      "Sugar           5148 non-null float64\n",
      "Calcium         6922 non-null float64\n",
      "Iron            6935 non-null float64\n",
      "Potassium       6649 non-null float64\n",
      "VitaminC        6726 non-null float64\n",
      "VitaminE        4338 non-null float64\n",
      "VitaminD        4224 non-null float64\n",
      "dtypes: float64(14), int64(1), object(1)\n",
      "memory usage: 882.3+ KB\n"
     ]
    }
   ],
   "source": [
    "usda.info()"
   ]
  },
  {
   "cell_type": "code",
   "execution_count": 61,
   "metadata": {},
   "outputs": [
    {
     "data": {
      "text/html": [
       "<div>\n",
       "<style>\n",
       "    .dataframe thead tr:only-child th {\n",
       "        text-align: right;\n",
       "    }\n",
       "\n",
       "    .dataframe thead th {\n",
       "        text-align: left;\n",
       "    }\n",
       "\n",
       "    .dataframe tbody tr th {\n",
       "        vertical-align: top;\n",
       "    }\n",
       "</style>\n",
       "<table border=\"1\" class=\"dataframe\">\n",
       "  <thead>\n",
       "    <tr style=\"text-align: right;\">\n",
       "      <th></th>\n",
       "      <th>ID</th>\n",
       "      <th>Calories</th>\n",
       "      <th>Protein</th>\n",
       "      <th>TotalFat</th>\n",
       "      <th>Carbohydrate</th>\n",
       "      <th>Sodium</th>\n",
       "      <th>SaturatedFat</th>\n",
       "      <th>Cholesterol</th>\n",
       "      <th>Sugar</th>\n",
       "      <th>Calcium</th>\n",
       "      <th>Iron</th>\n",
       "      <th>Potassium</th>\n",
       "      <th>VitaminC</th>\n",
       "      <th>VitaminE</th>\n",
       "      <th>VitaminD</th>\n",
       "    </tr>\n",
       "  </thead>\n",
       "  <tbody>\n",
       "    <tr>\n",
       "      <th>count</th>\n",
       "      <td>7058.000000</td>\n",
       "      <td>7057.000000</td>\n",
       "      <td>7057.000000</td>\n",
       "      <td>7057.000000</td>\n",
       "      <td>7057.000000</td>\n",
       "      <td>6974.000000</td>\n",
       "      <td>6757.000000</td>\n",
       "      <td>6770.000000</td>\n",
       "      <td>5148.000000</td>\n",
       "      <td>6922.000000</td>\n",
       "      <td>6935.000000</td>\n",
       "      <td>6649.000000</td>\n",
       "      <td>6726.000000</td>\n",
       "      <td>4338.000000</td>\n",
       "      <td>4224.000000</td>\n",
       "    </tr>\n",
       "    <tr>\n",
       "      <th>mean</th>\n",
       "      <td>14259.821196</td>\n",
       "      <td>219.695338</td>\n",
       "      <td>11.710368</td>\n",
       "      <td>10.320614</td>\n",
       "      <td>20.697860</td>\n",
       "      <td>322.059220</td>\n",
       "      <td>3.452267</td>\n",
       "      <td>41.551994</td>\n",
       "      <td>8.256540</td>\n",
       "      <td>73.530627</td>\n",
       "      <td>2.828368</td>\n",
       "      <td>301.357949</td>\n",
       "      <td>9.435980</td>\n",
       "      <td>1.487462</td>\n",
       "      <td>0.576918</td>\n",
       "    </tr>\n",
       "    <tr>\n",
       "      <th>std</th>\n",
       "      <td>8577.179705</td>\n",
       "      <td>172.198755</td>\n",
       "      <td>10.919356</td>\n",
       "      <td>16.814191</td>\n",
       "      <td>27.630443</td>\n",
       "      <td>1045.416931</td>\n",
       "      <td>6.921267</td>\n",
       "      <td>122.963028</td>\n",
       "      <td>15.361509</td>\n",
       "      <td>222.445338</td>\n",
       "      <td>6.019878</td>\n",
       "      <td>415.638949</td>\n",
       "      <td>71.256536</td>\n",
       "      <td>5.386914</td>\n",
       "      <td>4.301147</td>\n",
       "    </tr>\n",
       "    <tr>\n",
       "      <th>min</th>\n",
       "      <td>1001.000000</td>\n",
       "      <td>0.000000</td>\n",
       "      <td>0.000000</td>\n",
       "      <td>0.000000</td>\n",
       "      <td>0.000000</td>\n",
       "      <td>0.000000</td>\n",
       "      <td>0.000000</td>\n",
       "      <td>0.000000</td>\n",
       "      <td>0.000000</td>\n",
       "      <td>0.000000</td>\n",
       "      <td>0.000000</td>\n",
       "      <td>0.000000</td>\n",
       "      <td>0.000000</td>\n",
       "      <td>0.000000</td>\n",
       "      <td>0.000000</td>\n",
       "    </tr>\n",
       "    <tr>\n",
       "      <th>25%</th>\n",
       "      <td>8387.250000</td>\n",
       "      <td>85.000000</td>\n",
       "      <td>2.290000</td>\n",
       "      <td>0.720000</td>\n",
       "      <td>0.000000</td>\n",
       "      <td>37.000000</td>\n",
       "      <td>0.172000</td>\n",
       "      <td>0.000000</td>\n",
       "      <td>0.000000</td>\n",
       "      <td>9.000000</td>\n",
       "      <td>0.520000</td>\n",
       "      <td>135.000000</td>\n",
       "      <td>0.000000</td>\n",
       "      <td>0.120000</td>\n",
       "      <td>0.000000</td>\n",
       "    </tr>\n",
       "    <tr>\n",
       "      <th>50%</th>\n",
       "      <td>13293.500000</td>\n",
       "      <td>181.000000</td>\n",
       "      <td>8.200000</td>\n",
       "      <td>4.370000</td>\n",
       "      <td>7.130000</td>\n",
       "      <td>79.000000</td>\n",
       "      <td>1.256000</td>\n",
       "      <td>3.000000</td>\n",
       "      <td>1.395000</td>\n",
       "      <td>19.000000</td>\n",
       "      <td>1.330000</td>\n",
       "      <td>250.000000</td>\n",
       "      <td>0.000000</td>\n",
       "      <td>0.270000</td>\n",
       "      <td>0.000000</td>\n",
       "    </tr>\n",
       "    <tr>\n",
       "      <th>75%</th>\n",
       "      <td>18336.750000</td>\n",
       "      <td>331.000000</td>\n",
       "      <td>20.430000</td>\n",
       "      <td>12.700000</td>\n",
       "      <td>28.170000</td>\n",
       "      <td>386.000000</td>\n",
       "      <td>4.028000</td>\n",
       "      <td>69.000000</td>\n",
       "      <td>7.875000</td>\n",
       "      <td>56.000000</td>\n",
       "      <td>2.620000</td>\n",
       "      <td>348.000000</td>\n",
       "      <td>3.100000</td>\n",
       "      <td>0.710000</td>\n",
       "      <td>0.100000</td>\n",
       "    </tr>\n",
       "    <tr>\n",
       "      <th>max</th>\n",
       "      <td>93600.000000</td>\n",
       "      <td>902.000000</td>\n",
       "      <td>88.320000</td>\n",
       "      <td>100.000000</td>\n",
       "      <td>100.000000</td>\n",
       "      <td>38758.000000</td>\n",
       "      <td>95.600000</td>\n",
       "      <td>3100.000000</td>\n",
       "      <td>99.800000</td>\n",
       "      <td>7364.000000</td>\n",
       "      <td>123.600000</td>\n",
       "      <td>16500.000000</td>\n",
       "      <td>2400.000000</td>\n",
       "      <td>149.400000</td>\n",
       "      <td>250.000000</td>\n",
       "    </tr>\n",
       "  </tbody>\n",
       "</table>\n",
       "</div>"
      ],
      "text/plain": [
       "                 ID     Calories      Protein     TotalFat  Carbohydrate  \\\n",
       "count   7058.000000  7057.000000  7057.000000  7057.000000   7057.000000   \n",
       "mean   14259.821196   219.695338    11.710368    10.320614     20.697860   \n",
       "std     8577.179705   172.198755    10.919356    16.814191     27.630443   \n",
       "min     1001.000000     0.000000     0.000000     0.000000      0.000000   \n",
       "25%     8387.250000    85.000000     2.290000     0.720000      0.000000   \n",
       "50%    13293.500000   181.000000     8.200000     4.370000      7.130000   \n",
       "75%    18336.750000   331.000000    20.430000    12.700000     28.170000   \n",
       "max    93600.000000   902.000000    88.320000   100.000000    100.000000   \n",
       "\n",
       "             Sodium  SaturatedFat  Cholesterol        Sugar      Calcium  \\\n",
       "count   6974.000000   6757.000000  6770.000000  5148.000000  6922.000000   \n",
       "mean     322.059220      3.452267    41.551994     8.256540    73.530627   \n",
       "std     1045.416931      6.921267   122.963028    15.361509   222.445338   \n",
       "min        0.000000      0.000000     0.000000     0.000000     0.000000   \n",
       "25%       37.000000      0.172000     0.000000     0.000000     9.000000   \n",
       "50%       79.000000      1.256000     3.000000     1.395000    19.000000   \n",
       "75%      386.000000      4.028000    69.000000     7.875000    56.000000   \n",
       "max    38758.000000     95.600000  3100.000000    99.800000  7364.000000   \n",
       "\n",
       "              Iron     Potassium     VitaminC     VitaminE     VitaminD  \n",
       "count  6935.000000   6649.000000  6726.000000  4338.000000  4224.000000  \n",
       "mean      2.828368    301.357949     9.435980     1.487462     0.576918  \n",
       "std       6.019878    415.638949    71.256536     5.386914     4.301147  \n",
       "min       0.000000      0.000000     0.000000     0.000000     0.000000  \n",
       "25%       0.520000    135.000000     0.000000     0.120000     0.000000  \n",
       "50%       1.330000    250.000000     0.000000     0.270000     0.000000  \n",
       "75%       2.620000    348.000000     3.100000     0.710000     0.100000  \n",
       "max     123.600000  16500.000000  2400.000000   149.400000   250.000000  "
      ]
     },
     "execution_count": 61,
     "metadata": {},
     "output_type": "execute_result"
    }
   ],
   "source": [
    "usda.describe()"
   ]
  },
  {
   "cell_type": "markdown",
   "metadata": {},
   "source": [
    "#### idxmax returns the index of the maximum value in the column (in this case, the column is 'Sodium')"
   ]
  },
  {
   "cell_type": "code",
   "execution_count": 62,
   "metadata": {},
   "outputs": [
    {
     "data": {
      "text/plain": [
       "264"
      ]
     },
     "execution_count": 62,
     "metadata": {},
     "output_type": "execute_result"
    }
   ],
   "source": [
    "usda['Sodium'].idxmax()"
   ]
  },
  {
   "cell_type": "code",
   "execution_count": 63,
   "metadata": {},
   "outputs": [
    {
     "data": {
      "text/plain": [
       "ID                    2047\n",
       "Description     SALT,TABLE\n",
       "Calories                 0\n",
       "Protein                  0\n",
       "TotalFat                 0\n",
       "Carbohydrate             0\n",
       "Sodium               38758\n",
       "SaturatedFat             0\n",
       "Cholesterol              0\n",
       "Sugar                    0\n",
       "Calcium                 24\n",
       "Iron                  0.33\n",
       "Potassium                8\n",
       "VitaminC                 0\n",
       "VitaminE                 0\n",
       "VitaminD                 0\n",
       "Name: 264, dtype: object"
      ]
     },
     "execution_count": 63,
     "metadata": {},
     "output_type": "execute_result"
    }
   ],
   "source": [
    "usda.loc[usda['Sodium'].idxmax()]"
   ]
  },
  {
   "cell_type": "markdown",
   "metadata": {},
   "source": [
    "#### The following command is used to retrieve the names of the columns"
   ]
  },
  {
   "cell_type": "code",
   "execution_count": 64,
   "metadata": {},
   "outputs": [
    {
     "data": {
      "text/plain": [
       "array(['ID', 'Description', 'Calories', 'Protein', 'TotalFat',\n",
       "       'Carbohydrate', 'Sodium', 'SaturatedFat', 'Cholesterol', 'Sugar',\n",
       "       'Calcium', 'Iron', 'Potassium', 'VitaminC', 'VitaminE', 'VitaminD'], dtype=object)"
      ]
     },
     "execution_count": 64,
     "metadata": {},
     "output_type": "execute_result"
    }
   ],
   "source": [
    "usda.columns.values"
   ]
  },
  {
   "cell_type": "code",
   "execution_count": 65,
   "metadata": {
    "collapsed": true
   },
   "outputs": [],
   "source": [
    "highSodium = usda[usda['Sodium'] > 10000]"
   ]
  },
  {
   "cell_type": "code",
   "execution_count": 66,
   "metadata": {},
   "outputs": [
    {
     "data": {
      "text/html": [
       "<div>\n",
       "<style>\n",
       "    .dataframe thead tr:only-child th {\n",
       "        text-align: right;\n",
       "    }\n",
       "\n",
       "    .dataframe thead th {\n",
       "        text-align: left;\n",
       "    }\n",
       "\n",
       "    .dataframe tbody tr th {\n",
       "        vertical-align: top;\n",
       "    }\n",
       "</style>\n",
       "<table border=\"1\" class=\"dataframe\">\n",
       "  <thead>\n",
       "    <tr style=\"text-align: right;\">\n",
       "      <th></th>\n",
       "      <th>ID</th>\n",
       "      <th>Description</th>\n",
       "      <th>Calories</th>\n",
       "      <th>Protein</th>\n",
       "      <th>TotalFat</th>\n",
       "      <th>Carbohydrate</th>\n",
       "      <th>Sodium</th>\n",
       "      <th>SaturatedFat</th>\n",
       "      <th>Cholesterol</th>\n",
       "      <th>Sugar</th>\n",
       "      <th>Calcium</th>\n",
       "      <th>Iron</th>\n",
       "      <th>Potassium</th>\n",
       "      <th>VitaminC</th>\n",
       "      <th>VitaminE</th>\n",
       "      <th>VitaminD</th>\n",
       "    </tr>\n",
       "  </thead>\n",
       "  <tbody>\n",
       "    <tr>\n",
       "      <th>264</th>\n",
       "      <td>2047</td>\n",
       "      <td>SALT,TABLE</td>\n",
       "      <td>0.0</td>\n",
       "      <td>0.00</td>\n",
       "      <td>0.00</td>\n",
       "      <td>0.00</td>\n",
       "      <td>38758.0</td>\n",
       "      <td>0.00</td>\n",
       "      <td>0.0</td>\n",
       "      <td>0.00</td>\n",
       "      <td>24.0</td>\n",
       "      <td>0.33</td>\n",
       "      <td>8.0</td>\n",
       "      <td>0.0</td>\n",
       "      <td>0.00</td>\n",
       "      <td>0.0</td>\n",
       "    </tr>\n",
       "    <tr>\n",
       "      <th>921</th>\n",
       "      <td>6075</td>\n",
       "      <td>SOUP,BF BROTH OR BOUILLON,PDR,DRY</td>\n",
       "      <td>213.0</td>\n",
       "      <td>15.97</td>\n",
       "      <td>8.89</td>\n",
       "      <td>17.40</td>\n",
       "      <td>26000.0</td>\n",
       "      <td>4.32</td>\n",
       "      <td>10.0</td>\n",
       "      <td>16.71</td>\n",
       "      <td>60.0</td>\n",
       "      <td>1.00</td>\n",
       "      <td>446.0</td>\n",
       "      <td>0.0</td>\n",
       "      <td>2.17</td>\n",
       "      <td>0.0</td>\n",
       "    </tr>\n",
       "    <tr>\n",
       "      <th>922</th>\n",
       "      <td>6076</td>\n",
       "      <td>SOUP,BEEF BROTH,CUBED,DRY</td>\n",
       "      <td>170.0</td>\n",
       "      <td>17.30</td>\n",
       "      <td>4.00</td>\n",
       "      <td>16.10</td>\n",
       "      <td>24000.0</td>\n",
       "      <td>1.99</td>\n",
       "      <td>4.0</td>\n",
       "      <td>14.51</td>\n",
       "      <td>60.0</td>\n",
       "      <td>2.23</td>\n",
       "      <td>403.0</td>\n",
       "      <td>0.0</td>\n",
       "      <td>0.00</td>\n",
       "      <td>0.0</td>\n",
       "    </tr>\n",
       "    <tr>\n",
       "      <th>924</th>\n",
       "      <td>6080</td>\n",
       "      <td>SOUP,CHICK BROTH OR BOUILLON,DRY</td>\n",
       "      <td>267.0</td>\n",
       "      <td>16.66</td>\n",
       "      <td>13.88</td>\n",
       "      <td>18.01</td>\n",
       "      <td>23875.0</td>\n",
       "      <td>3.43</td>\n",
       "      <td>13.0</td>\n",
       "      <td>17.36</td>\n",
       "      <td>187.0</td>\n",
       "      <td>1.03</td>\n",
       "      <td>309.0</td>\n",
       "      <td>1.1</td>\n",
       "      <td>0.46</td>\n",
       "      <td>0.0</td>\n",
       "    </tr>\n",
       "    <tr>\n",
       "      <th>925</th>\n",
       "      <td>6081</td>\n",
       "      <td>SOUP,CHICK BROTH CUBES,DRY</td>\n",
       "      <td>198.0</td>\n",
       "      <td>14.60</td>\n",
       "      <td>4.70</td>\n",
       "      <td>23.50</td>\n",
       "      <td>24000.0</td>\n",
       "      <td>1.20</td>\n",
       "      <td>13.0</td>\n",
       "      <td>0.00</td>\n",
       "      <td>190.0</td>\n",
       "      <td>1.87</td>\n",
       "      <td>374.0</td>\n",
       "      <td>1.0</td>\n",
       "      <td>0.09</td>\n",
       "      <td>NaN</td>\n",
       "    </tr>\n",
       "  </tbody>\n",
       "</table>\n",
       "</div>"
      ],
      "text/plain": [
       "       ID                        Description  Calories  Protein  TotalFat  \\\n",
       "264  2047                         SALT,TABLE       0.0     0.00      0.00   \n",
       "921  6075  SOUP,BF BROTH OR BOUILLON,PDR,DRY     213.0    15.97      8.89   \n",
       "922  6076          SOUP,BEEF BROTH,CUBED,DRY     170.0    17.30      4.00   \n",
       "924  6080   SOUP,CHICK BROTH OR BOUILLON,DRY     267.0    16.66     13.88   \n",
       "925  6081         SOUP,CHICK BROTH CUBES,DRY     198.0    14.60      4.70   \n",
       "\n",
       "     Carbohydrate   Sodium  SaturatedFat  Cholesterol  Sugar  Calcium  Iron  \\\n",
       "264          0.00  38758.0          0.00          0.0   0.00     24.0  0.33   \n",
       "921         17.40  26000.0          4.32         10.0  16.71     60.0  1.00   \n",
       "922         16.10  24000.0          1.99          4.0  14.51     60.0  2.23   \n",
       "924         18.01  23875.0          3.43         13.0  17.36    187.0  1.03   \n",
       "925         23.50  24000.0          1.20         13.0   0.00    190.0  1.87   \n",
       "\n",
       "     Potassium  VitaminC  VitaminE  VitaminD  \n",
       "264        8.0       0.0      0.00       0.0  \n",
       "921      446.0       0.0      2.17       0.0  \n",
       "922      403.0       0.0      0.00       0.0  \n",
       "924      309.0       1.1      0.46       0.0  \n",
       "925      374.0       1.0      0.09       NaN  "
      ]
     },
     "execution_count": 66,
     "metadata": {},
     "output_type": "execute_result"
    }
   ],
   "source": [
    "highSodium.head()"
   ]
  },
  {
   "cell_type": "code",
   "execution_count": 67,
   "metadata": {},
   "outputs": [
    {
     "data": {
      "text/plain": [
       "160"
      ]
     },
     "execution_count": 67,
     "metadata": {},
     "output_type": "execute_result"
    }
   ],
   "source": [
    "highSodium.size"
   ]
  },
  {
   "cell_type": "code",
   "execution_count": 68,
   "metadata": {},
   "outputs": [
    {
     "data": {
      "text/plain": [
       "ID              10\n",
       "Description     10\n",
       "Calories        10\n",
       "Protein         10\n",
       "TotalFat        10\n",
       "Carbohydrate    10\n",
       "Sodium          10\n",
       "SaturatedFat    10\n",
       "Cholesterol     10\n",
       "Sugar            8\n",
       "Calcium         10\n",
       "Iron            10\n",
       "Potassium       10\n",
       "VitaminC        10\n",
       "VitaminE         8\n",
       "VitaminD         7\n",
       "dtype: int64"
      ]
     },
     "execution_count": 68,
     "metadata": {},
     "output_type": "execute_result"
    }
   ],
   "source": [
    "highSodium.count()"
   ]
  },
  {
   "cell_type": "code",
   "execution_count": 69,
   "metadata": {},
   "outputs": [
    {
     "data": {
      "text/plain": [
       "264                                            SALT,TABLE\n",
       "921                     SOUP,BF BROTH OR BOUILLON,PDR,DRY\n",
       "922                             SOUP,BEEF BROTH,CUBED,DRY\n",
       "924                      SOUP,CHICK BROTH OR BOUILLON,DRY\n",
       "925                            SOUP,CHICK BROTH CUBES,DRY\n",
       "937                                      GRAVY,AU JUS,DRY\n",
       "1302                                         ADOBO FRESCO\n",
       "5320    LEAVENING AGENTS,BAKING PDR,DOUBLE-ACTING,NA A...\n",
       "5323                         LEAVENING AGENTS,BAKING SODA\n",
       "5697                      DESSERTS,RENNIN,TABLETS,UNSWTND\n",
       "Name: Description, dtype: object"
      ]
     },
     "execution_count": 69,
     "metadata": {},
     "output_type": "execute_result"
    }
   ],
   "source": [
    "highSodium['Description']"
   ]
  },
  {
   "cell_type": "code",
   "execution_count": 70,
   "metadata": {},
   "outputs": [
    {
     "data": {
      "text/plain": [
       "264     False\n",
       "921     False\n",
       "922     False\n",
       "924     False\n",
       "925     False\n",
       "937     False\n",
       "1302    False\n",
       "5320    False\n",
       "5323    False\n",
       "5697    False\n",
       "Name: Description, dtype: bool"
      ]
     },
     "execution_count": 70,
     "metadata": {},
     "output_type": "execute_result"
    }
   ],
   "source": [
    "highSodium['Description'].astype(str).str.contains('CAVIAR')"
   ]
  },
  {
   "cell_type": "code",
   "execution_count": 71,
   "metadata": {},
   "outputs": [
    {
     "data": {
      "text/html": [
       "<div>\n",
       "<style>\n",
       "    .dataframe thead tr:only-child th {\n",
       "        text-align: right;\n",
       "    }\n",
       "\n",
       "    .dataframe thead th {\n",
       "        text-align: left;\n",
       "    }\n",
       "\n",
       "    .dataframe tbody tr th {\n",
       "        vertical-align: top;\n",
       "    }\n",
       "</style>\n",
       "<table border=\"1\" class=\"dataframe\">\n",
       "  <thead>\n",
       "    <tr style=\"text-align: right;\">\n",
       "      <th></th>\n",
       "      <th>ID</th>\n",
       "      <th>Description</th>\n",
       "      <th>Calories</th>\n",
       "      <th>Protein</th>\n",
       "      <th>TotalFat</th>\n",
       "      <th>Carbohydrate</th>\n",
       "      <th>Sodium</th>\n",
       "      <th>SaturatedFat</th>\n",
       "      <th>Cholesterol</th>\n",
       "      <th>Sugar</th>\n",
       "      <th>Calcium</th>\n",
       "      <th>Iron</th>\n",
       "      <th>Potassium</th>\n",
       "      <th>VitaminC</th>\n",
       "      <th>VitaminE</th>\n",
       "      <th>VitaminD</th>\n",
       "    </tr>\n",
       "  </thead>\n",
       "  <tbody>\n",
       "    <tr>\n",
       "      <th>4153</th>\n",
       "      <td>15012</td>\n",
       "      <td>CAVIAR</td>\n",
       "      <td>264.0</td>\n",
       "      <td>24.6</td>\n",
       "      <td>17.9</td>\n",
       "      <td>4.0</td>\n",
       "      <td>1500.0</td>\n",
       "      <td>4.06</td>\n",
       "      <td>588.0</td>\n",
       "      <td>0.0</td>\n",
       "      <td>275.0</td>\n",
       "      <td>11.88</td>\n",
       "      <td>181.0</td>\n",
       "      <td>0.0</td>\n",
       "      <td>1.89</td>\n",
       "      <td>2.9</td>\n",
       "    </tr>\n",
       "  </tbody>\n",
       "</table>\n",
       "</div>"
      ],
      "text/plain": [
       "         ID Description  Calories  Protein  TotalFat  Carbohydrate  Sodium  \\\n",
       "4153  15012      CAVIAR     264.0     24.6      17.9           4.0  1500.0   \n",
       "\n",
       "      SaturatedFat  Cholesterol  Sugar  Calcium   Iron  Potassium  VitaminC  \\\n",
       "4153          4.06        588.0    0.0    275.0  11.88      181.0       0.0   \n",
       "\n",
       "      VitaminE  VitaminD  \n",
       "4153      1.89       2.9  "
      ]
     },
     "execution_count": 71,
     "metadata": {},
     "output_type": "execute_result"
    }
   ],
   "source": [
    "usda[usda['Description'].astype(str).str.contains('CAVIAR')]"
   ]
  },
  {
   "cell_type": "code",
   "execution_count": 72,
   "metadata": {},
   "outputs": [
    {
     "data": {
      "text/plain": [
       "count     6974.000000\n",
       "mean       322.059220\n",
       "std       1045.416931\n",
       "min          0.000000\n",
       "25%         37.000000\n",
       "50%         79.000000\n",
       "75%        386.000000\n",
       "max      38758.000000\n",
       "Name: Sodium, dtype: float64"
      ]
     },
     "execution_count": 72,
     "metadata": {},
     "output_type": "execute_result"
    }
   ],
   "source": [
    "usda['Sodium'].describe()"
   ]
  },
  {
   "cell_type": "markdown",
   "metadata": {},
   "source": [
    "#### Should check the following ones - how to drop na in a DataFrame column"
   ]
  },
  {
   "cell_type": "code",
   "execution_count": 73,
   "metadata": {
    "collapsed": true
   },
   "outputs": [],
   "source": [
    "sodiumWithoutNA = usda['Sodium'].dropna(inplace = True)"
   ]
  },
  {
   "cell_type": "code",
   "execution_count": 26,
   "metadata": {
    "collapsed": true
   },
   "outputs": [],
   "source": [
    "sodiumWithoutNA"
   ]
  },
  {
   "cell_type": "code",
   "execution_count": 74,
   "metadata": {},
   "outputs": [
    {
     "data": {
      "text/plain": [
       "322.05921995985085"
      ]
     },
     "execution_count": 74,
     "metadata": {},
     "output_type": "execute_result"
    }
   ],
   "source": [
    "usda['Sodium'].mean()"
   ]
  },
  {
   "cell_type": "markdown",
   "metadata": {},
   "source": [
    "#### Encoding variables as a categorical variable (in this case, converting from boolean(false/true) to int (0/1)"
   ]
  },
  {
   "cell_type": "code",
   "execution_count": 75,
   "metadata": {
    "collapsed": true
   },
   "outputs": [],
   "source": [
    "usda['HighSodium'] = (usda['Sodium'] > usda['Sodium'].mean()).astype(int)"
   ]
  },
  {
   "cell_type": "code",
   "execution_count": 76,
   "metadata": {},
   "outputs": [
    {
     "data": {
      "text/plain": [
       "0    1.0\n",
       "1    1.0\n",
       "2    0.0\n",
       "3    1.0\n",
       "4    1.0\n",
       "Name: HighSodium, dtype: float64"
      ]
     },
     "execution_count": 76,
     "metadata": {},
     "output_type": "execute_result"
    }
   ],
   "source": [
    "usda['HighSodium'].head()"
   ]
  },
  {
   "cell_type": "code",
   "execution_count": 77,
   "metadata": {},
   "outputs": [
    {
     "data": {
      "text/html": [
       "<div>\n",
       "<style>\n",
       "    .dataframe thead tr:only-child th {\n",
       "        text-align: right;\n",
       "    }\n",
       "\n",
       "    .dataframe thead th {\n",
       "        text-align: left;\n",
       "    }\n",
       "\n",
       "    .dataframe tbody tr th {\n",
       "        vertical-align: top;\n",
       "    }\n",
       "</style>\n",
       "<table border=\"1\" class=\"dataframe\">\n",
       "  <thead>\n",
       "    <tr style=\"text-align: right;\">\n",
       "      <th></th>\n",
       "      <th>ID</th>\n",
       "      <th>Description</th>\n",
       "      <th>Calories</th>\n",
       "      <th>Protein</th>\n",
       "      <th>TotalFat</th>\n",
       "      <th>Carbohydrate</th>\n",
       "      <th>Sodium</th>\n",
       "      <th>SaturatedFat</th>\n",
       "      <th>Cholesterol</th>\n",
       "      <th>Sugar</th>\n",
       "      <th>Calcium</th>\n",
       "      <th>Iron</th>\n",
       "      <th>Potassium</th>\n",
       "      <th>VitaminC</th>\n",
       "      <th>VitaminE</th>\n",
       "      <th>VitaminD</th>\n",
       "      <th>HighSodium</th>\n",
       "    </tr>\n",
       "  </thead>\n",
       "  <tbody>\n",
       "    <tr>\n",
       "      <th>7053</th>\n",
       "      <td>80200</td>\n",
       "      <td>FROG LEGS,RAW</td>\n",
       "      <td>73.0</td>\n",
       "      <td>16.40</td>\n",
       "      <td>0.30</td>\n",
       "      <td>0.00</td>\n",
       "      <td>58.0</td>\n",
       "      <td>0.076</td>\n",
       "      <td>50.0</td>\n",
       "      <td>0.0</td>\n",
       "      <td>18.0</td>\n",
       "      <td>1.50</td>\n",
       "      <td>285.0</td>\n",
       "      <td>0.0</td>\n",
       "      <td>1.00</td>\n",
       "      <td>0.2</td>\n",
       "      <td>0.0</td>\n",
       "    </tr>\n",
       "    <tr>\n",
       "      <th>7054</th>\n",
       "      <td>83110</td>\n",
       "      <td>MACKEREL,SALTED</td>\n",
       "      <td>305.0</td>\n",
       "      <td>18.50</td>\n",
       "      <td>25.10</td>\n",
       "      <td>0.00</td>\n",
       "      <td>4450.0</td>\n",
       "      <td>7.148</td>\n",
       "      <td>95.0</td>\n",
       "      <td>0.0</td>\n",
       "      <td>66.0</td>\n",
       "      <td>1.40</td>\n",
       "      <td>520.0</td>\n",
       "      <td>0.0</td>\n",
       "      <td>2.38</td>\n",
       "      <td>25.2</td>\n",
       "      <td>1.0</td>\n",
       "    </tr>\n",
       "    <tr>\n",
       "      <th>7055</th>\n",
       "      <td>90240</td>\n",
       "      <td>SCALLOP,(BAY&amp;SEA),CKD,STMD</td>\n",
       "      <td>111.0</td>\n",
       "      <td>20.54</td>\n",
       "      <td>0.84</td>\n",
       "      <td>5.41</td>\n",
       "      <td>667.0</td>\n",
       "      <td>0.218</td>\n",
       "      <td>41.0</td>\n",
       "      <td>0.0</td>\n",
       "      <td>10.0</td>\n",
       "      <td>0.58</td>\n",
       "      <td>314.0</td>\n",
       "      <td>0.0</td>\n",
       "      <td>0.00</td>\n",
       "      <td>0.0</td>\n",
       "      <td>1.0</td>\n",
       "    </tr>\n",
       "    <tr>\n",
       "      <th>7056</th>\n",
       "      <td>90560</td>\n",
       "      <td>SNAIL,RAW</td>\n",
       "      <td>90.0</td>\n",
       "      <td>16.10</td>\n",
       "      <td>1.40</td>\n",
       "      <td>2.00</td>\n",
       "      <td>70.0</td>\n",
       "      <td>0.361</td>\n",
       "      <td>50.0</td>\n",
       "      <td>0.0</td>\n",
       "      <td>10.0</td>\n",
       "      <td>3.50</td>\n",
       "      <td>382.0</td>\n",
       "      <td>0.0</td>\n",
       "      <td>5.00</td>\n",
       "      <td>0.0</td>\n",
       "      <td>0.0</td>\n",
       "    </tr>\n",
       "    <tr>\n",
       "      <th>7057</th>\n",
       "      <td>93600</td>\n",
       "      <td>TURTLE,GREEN,RAW</td>\n",
       "      <td>89.0</td>\n",
       "      <td>19.80</td>\n",
       "      <td>0.50</td>\n",
       "      <td>0.00</td>\n",
       "      <td>68.0</td>\n",
       "      <td>0.127</td>\n",
       "      <td>50.0</td>\n",
       "      <td>0.0</td>\n",
       "      <td>118.0</td>\n",
       "      <td>1.40</td>\n",
       "      <td>230.0</td>\n",
       "      <td>0.0</td>\n",
       "      <td>0.50</td>\n",
       "      <td>0.0</td>\n",
       "      <td>0.0</td>\n",
       "    </tr>\n",
       "  </tbody>\n",
       "</table>\n",
       "</div>"
      ],
      "text/plain": [
       "         ID                 Description  Calories  Protein  TotalFat  \\\n",
       "7053  80200               FROG LEGS,RAW      73.0    16.40      0.30   \n",
       "7054  83110             MACKEREL,SALTED     305.0    18.50     25.10   \n",
       "7055  90240  SCALLOP,(BAY&SEA),CKD,STMD     111.0    20.54      0.84   \n",
       "7056  90560                   SNAIL,RAW      90.0    16.10      1.40   \n",
       "7057  93600            TURTLE,GREEN,RAW      89.0    19.80      0.50   \n",
       "\n",
       "      Carbohydrate  Sodium  SaturatedFat  Cholesterol  Sugar  Calcium  Iron  \\\n",
       "7053          0.00    58.0         0.076         50.0    0.0     18.0  1.50   \n",
       "7054          0.00  4450.0         7.148         95.0    0.0     66.0  1.40   \n",
       "7055          5.41   667.0         0.218         41.0    0.0     10.0  0.58   \n",
       "7056          2.00    70.0         0.361         50.0    0.0     10.0  3.50   \n",
       "7057          0.00    68.0         0.127         50.0    0.0    118.0  1.40   \n",
       "\n",
       "      Potassium  VitaminC  VitaminE  VitaminD  HighSodium  \n",
       "7053      285.0       0.0      1.00       0.2         0.0  \n",
       "7054      520.0       0.0      2.38      25.2         1.0  \n",
       "7055      314.0       0.0      0.00       0.0         1.0  \n",
       "7056      382.0       0.0      5.00       0.0         0.0  \n",
       "7057      230.0       0.0      0.50       0.0         0.0  "
      ]
     },
     "execution_count": 77,
     "metadata": {},
     "output_type": "execute_result"
    }
   ],
   "source": [
    "usda.tail()"
   ]
  },
  {
   "cell_type": "code",
   "execution_count": 78,
   "metadata": {
    "collapsed": true
   },
   "outputs": [],
   "source": [
    "usda['HighProtein'] = (usda['Protein'] > usda['Protein'].mean()).astype(int)"
   ]
  },
  {
   "cell_type": "code",
   "execution_count": 79,
   "metadata": {
    "collapsed": true
   },
   "outputs": [],
   "source": [
    "usda['HighFat'] = (usda['TotalFat'] > usda['TotalFat'].mean()).astype(int)"
   ]
  },
  {
   "cell_type": "code",
   "execution_count": 80,
   "metadata": {
    "collapsed": true
   },
   "outputs": [],
   "source": [
    "usda['HighCarbohydrate'] = (usda['Carbohydrate'] > usda['Carbohydrate'].mean()).astype(int)"
   ]
  },
  {
   "cell_type": "code",
   "execution_count": 81,
   "metadata": {},
   "outputs": [
    {
     "data": {
      "text/html": [
       "<div>\n",
       "<style>\n",
       "    .dataframe thead tr:only-child th {\n",
       "        text-align: right;\n",
       "    }\n",
       "\n",
       "    .dataframe thead th {\n",
       "        text-align: left;\n",
       "    }\n",
       "\n",
       "    .dataframe tbody tr th {\n",
       "        vertical-align: top;\n",
       "    }\n",
       "</style>\n",
       "<table border=\"1\" class=\"dataframe\">\n",
       "  <thead>\n",
       "    <tr style=\"text-align: right;\">\n",
       "      <th></th>\n",
       "      <th>ID</th>\n",
       "      <th>Description</th>\n",
       "      <th>Calories</th>\n",
       "      <th>Protein</th>\n",
       "      <th>TotalFat</th>\n",
       "      <th>Carbohydrate</th>\n",
       "      <th>Sodium</th>\n",
       "      <th>SaturatedFat</th>\n",
       "      <th>Cholesterol</th>\n",
       "      <th>Sugar</th>\n",
       "      <th>Calcium</th>\n",
       "      <th>Iron</th>\n",
       "      <th>Potassium</th>\n",
       "      <th>VitaminC</th>\n",
       "      <th>VitaminE</th>\n",
       "      <th>VitaminD</th>\n",
       "      <th>HighSodium</th>\n",
       "      <th>HighProtein</th>\n",
       "      <th>HighFat</th>\n",
       "      <th>HighCarbohydrate</th>\n",
       "    </tr>\n",
       "  </thead>\n",
       "  <tbody>\n",
       "    <tr>\n",
       "      <th>0</th>\n",
       "      <td>1001</td>\n",
       "      <td>BUTTER,WITH SALT</td>\n",
       "      <td>717.0</td>\n",
       "      <td>0.85</td>\n",
       "      <td>81.11</td>\n",
       "      <td>0.06</td>\n",
       "      <td>714.0</td>\n",
       "      <td>51.368</td>\n",
       "      <td>215.0</td>\n",
       "      <td>0.06</td>\n",
       "      <td>24.0</td>\n",
       "      <td>0.02</td>\n",
       "      <td>24.0</td>\n",
       "      <td>0.0</td>\n",
       "      <td>2.32</td>\n",
       "      <td>1.5</td>\n",
       "      <td>1.0</td>\n",
       "      <td>0</td>\n",
       "      <td>1</td>\n",
       "      <td>0</td>\n",
       "    </tr>\n",
       "    <tr>\n",
       "      <th>1</th>\n",
       "      <td>1002</td>\n",
       "      <td>BUTTER,WHIPPED,WITH SALT</td>\n",
       "      <td>717.0</td>\n",
       "      <td>0.85</td>\n",
       "      <td>81.11</td>\n",
       "      <td>0.06</td>\n",
       "      <td>827.0</td>\n",
       "      <td>50.489</td>\n",
       "      <td>219.0</td>\n",
       "      <td>0.06</td>\n",
       "      <td>24.0</td>\n",
       "      <td>0.16</td>\n",
       "      <td>26.0</td>\n",
       "      <td>0.0</td>\n",
       "      <td>2.32</td>\n",
       "      <td>1.5</td>\n",
       "      <td>1.0</td>\n",
       "      <td>0</td>\n",
       "      <td>1</td>\n",
       "      <td>0</td>\n",
       "    </tr>\n",
       "    <tr>\n",
       "      <th>2</th>\n",
       "      <td>1003</td>\n",
       "      <td>BUTTER OIL,ANHYDROUS</td>\n",
       "      <td>876.0</td>\n",
       "      <td>0.28</td>\n",
       "      <td>99.48</td>\n",
       "      <td>0.00</td>\n",
       "      <td>2.0</td>\n",
       "      <td>61.924</td>\n",
       "      <td>256.0</td>\n",
       "      <td>0.00</td>\n",
       "      <td>4.0</td>\n",
       "      <td>0.00</td>\n",
       "      <td>5.0</td>\n",
       "      <td>0.0</td>\n",
       "      <td>2.80</td>\n",
       "      <td>1.8</td>\n",
       "      <td>0.0</td>\n",
       "      <td>0</td>\n",
       "      <td>1</td>\n",
       "      <td>0</td>\n",
       "    </tr>\n",
       "    <tr>\n",
       "      <th>3</th>\n",
       "      <td>1004</td>\n",
       "      <td>CHEESE,BLUE</td>\n",
       "      <td>353.0</td>\n",
       "      <td>21.40</td>\n",
       "      <td>28.74</td>\n",
       "      <td>2.34</td>\n",
       "      <td>1395.0</td>\n",
       "      <td>18.669</td>\n",
       "      <td>75.0</td>\n",
       "      <td>0.50</td>\n",
       "      <td>528.0</td>\n",
       "      <td>0.31</td>\n",
       "      <td>256.0</td>\n",
       "      <td>0.0</td>\n",
       "      <td>0.25</td>\n",
       "      <td>0.5</td>\n",
       "      <td>1.0</td>\n",
       "      <td>1</td>\n",
       "      <td>1</td>\n",
       "      <td>0</td>\n",
       "    </tr>\n",
       "    <tr>\n",
       "      <th>4</th>\n",
       "      <td>1005</td>\n",
       "      <td>CHEESE,BRICK</td>\n",
       "      <td>371.0</td>\n",
       "      <td>23.24</td>\n",
       "      <td>29.68</td>\n",
       "      <td>2.79</td>\n",
       "      <td>560.0</td>\n",
       "      <td>18.764</td>\n",
       "      <td>94.0</td>\n",
       "      <td>0.51</td>\n",
       "      <td>674.0</td>\n",
       "      <td>0.43</td>\n",
       "      <td>136.0</td>\n",
       "      <td>0.0</td>\n",
       "      <td>0.26</td>\n",
       "      <td>0.5</td>\n",
       "      <td>1.0</td>\n",
       "      <td>1</td>\n",
       "      <td>1</td>\n",
       "      <td>0</td>\n",
       "    </tr>\n",
       "  </tbody>\n",
       "</table>\n",
       "</div>"
      ],
      "text/plain": [
       "     ID               Description  Calories  Protein  TotalFat  Carbohydrate  \\\n",
       "0  1001          BUTTER,WITH SALT     717.0     0.85     81.11          0.06   \n",
       "1  1002  BUTTER,WHIPPED,WITH SALT     717.0     0.85     81.11          0.06   \n",
       "2  1003      BUTTER OIL,ANHYDROUS     876.0     0.28     99.48          0.00   \n",
       "3  1004               CHEESE,BLUE     353.0    21.40     28.74          2.34   \n",
       "4  1005              CHEESE,BRICK     371.0    23.24     29.68          2.79   \n",
       "\n",
       "   Sodium  SaturatedFat  Cholesterol  Sugar  Calcium  Iron  Potassium  \\\n",
       "0   714.0        51.368        215.0   0.06     24.0  0.02       24.0   \n",
       "1   827.0        50.489        219.0   0.06     24.0  0.16       26.0   \n",
       "2     2.0        61.924        256.0   0.00      4.0  0.00        5.0   \n",
       "3  1395.0        18.669         75.0   0.50    528.0  0.31      256.0   \n",
       "4   560.0        18.764         94.0   0.51    674.0  0.43      136.0   \n",
       "\n",
       "   VitaminC  VitaminE  VitaminD  HighSodium  HighProtein  HighFat  \\\n",
       "0       0.0      2.32       1.5         1.0            0        1   \n",
       "1       0.0      2.32       1.5         1.0            0        1   \n",
       "2       0.0      2.80       1.8         0.0            0        1   \n",
       "3       0.0      0.25       0.5         1.0            1        1   \n",
       "4       0.0      0.26       0.5         1.0            1        1   \n",
       "\n",
       "   HighCarbohydrate  \n",
       "0                 0  \n",
       "1                 0  \n",
       "2                 0  \n",
       "3                 0  \n",
       "4                 0  "
      ]
     },
     "execution_count": 81,
     "metadata": {},
     "output_type": "execute_result"
    }
   ],
   "source": [
    "usda.head()"
   ]
  },
  {
   "cell_type": "code",
   "execution_count": 82,
   "metadata": {},
   "outputs": [
    {
     "data": {
      "text/plain": [
       "0.0    4884\n",
       "1.0    2090\n",
       "Name: HighSodium, dtype: int64"
      ]
     },
     "execution_count": 82,
     "metadata": {},
     "output_type": "execute_result"
    }
   ],
   "source": [
    "usda['HighSodium'].value_counts()"
   ]
  },
  {
   "cell_type": "markdown",
   "metadata": {},
   "source": [
    "#### The following line just counts the number of foods with low sodium (0) and high sodium content"
   ]
  },
  {
   "cell_type": "code",
   "execution_count": 83,
   "metadata": {},
   "outputs": [
    {
     "data": {
      "text/html": [
       "<div>\n",
       "<style>\n",
       "    .dataframe thead tr:only-child th {\n",
       "        text-align: right;\n",
       "    }\n",
       "\n",
       "    .dataframe thead th {\n",
       "        text-align: left;\n",
       "    }\n",
       "\n",
       "    .dataframe tbody tr th {\n",
       "        vertical-align: top;\n",
       "    }\n",
       "</style>\n",
       "<table border=\"1\" class=\"dataframe\">\n",
       "  <thead>\n",
       "    <tr style=\"text-align: right;\">\n",
       "      <th>col_0</th>\n",
       "      <th>count</th>\n",
       "    </tr>\n",
       "    <tr>\n",
       "      <th>HighSodium</th>\n",
       "      <th></th>\n",
       "    </tr>\n",
       "  </thead>\n",
       "  <tbody>\n",
       "    <tr>\n",
       "      <th>0.0</th>\n",
       "      <td>4884</td>\n",
       "    </tr>\n",
       "    <tr>\n",
       "      <th>1.0</th>\n",
       "      <td>2090</td>\n",
       "    </tr>\n",
       "  </tbody>\n",
       "</table>\n",
       "</div>"
      ],
      "text/plain": [
       "col_0       count\n",
       "HighSodium       \n",
       "0.0          4884\n",
       "1.0          2090"
      ]
     },
     "execution_count": 83,
     "metadata": {},
     "output_type": "execute_result"
    }
   ],
   "source": [
    "pd.crosstab(index=usda['HighSodium'], columns='count') \n",
    "#Source:http://hamelg.blogspot.com/2015/11/python-for-data-analysis-part-19_17.html"
   ]
  },
  {
   "cell_type": "markdown",
   "metadata": {},
   "source": [
    "#### The following code compares the high sodium content with high fat content. So there are 3529 foods with low sodium and low fat, 1355 foods with low sodium and high fat content, 1378 foods with high sodium and low fat content and 712 foods with high sodium and high fat content."
   ]
  },
  {
   "cell_type": "code",
   "execution_count": 84,
   "metadata": {},
   "outputs": [
    {
     "data": {
      "text/html": [
       "<div>\n",
       "<style>\n",
       "    .dataframe thead tr:only-child th {\n",
       "        text-align: right;\n",
       "    }\n",
       "\n",
       "    .dataframe thead th {\n",
       "        text-align: left;\n",
       "    }\n",
       "\n",
       "    .dataframe tbody tr th {\n",
       "        vertical-align: top;\n",
       "    }\n",
       "</style>\n",
       "<table border=\"1\" class=\"dataframe\">\n",
       "  <thead>\n",
       "    <tr style=\"text-align: right;\">\n",
       "      <th>HighFat</th>\n",
       "      <th>0</th>\n",
       "      <th>1</th>\n",
       "    </tr>\n",
       "    <tr>\n",
       "      <th>HighSodium</th>\n",
       "      <th></th>\n",
       "      <th></th>\n",
       "    </tr>\n",
       "  </thead>\n",
       "  <tbody>\n",
       "    <tr>\n",
       "      <th>0.0</th>\n",
       "      <td>3529</td>\n",
       "      <td>1355</td>\n",
       "    </tr>\n",
       "    <tr>\n",
       "      <th>1.0</th>\n",
       "      <td>1378</td>\n",
       "      <td>712</td>\n",
       "    </tr>\n",
       "  </tbody>\n",
       "</table>\n",
       "</div>"
      ],
      "text/plain": [
       "HighFat        0     1\n",
       "HighSodium            \n",
       "0.0         3529  1355\n",
       "1.0         1378   712"
      ]
     },
     "execution_count": 84,
     "metadata": {},
     "output_type": "execute_result"
    }
   ],
   "source": [
    "pd.crosstab(index = usda['HighSodium'], columns = usda['HighFat'])"
   ]
  },
  {
   "cell_type": "code",
   "execution_count": 85,
   "metadata": {},
   "outputs": [
    {
     "data": {
      "text/html": [
       "<div>\n",
       "<style>\n",
       "    .dataframe thead tr:only-child th {\n",
       "        text-align: right;\n",
       "    }\n",
       "\n",
       "    .dataframe thead th {\n",
       "        text-align: left;\n",
       "    }\n",
       "\n",
       "    .dataframe tbody tr th {\n",
       "        vertical-align: top;\n",
       "    }\n",
       "</style>\n",
       "<table border=\"1\" class=\"dataframe\">\n",
       "  <thead>\n",
       "    <tr style=\"text-align: right;\">\n",
       "      <th>HighFat</th>\n",
       "      <th>0</th>\n",
       "      <th>1</th>\n",
       "    </tr>\n",
       "  </thead>\n",
       "  <tbody>\n",
       "    <tr>\n",
       "      <th>LowSodium</th>\n",
       "      <td>3529</td>\n",
       "      <td>1355</td>\n",
       "    </tr>\n",
       "    <tr>\n",
       "      <th>HighSodium</th>\n",
       "      <td>1378</td>\n",
       "      <td>712</td>\n",
       "    </tr>\n",
       "  </tbody>\n",
       "</table>\n",
       "</div>"
      ],
      "text/plain": [
       "HighFat        0     1\n",
       "LowSodium   3529  1355\n",
       "HighSodium  1378   712"
      ]
     },
     "execution_count": 85,
     "metadata": {},
     "output_type": "execute_result"
    }
   ],
   "source": [
    "highSodiumVsHighFat = pd.crosstab(index = usda['HighSodium'], columns = usda['HighFat'])\n",
    "highSodiumVsHighFat.index = ['LowSodium', 'HighSodium']\n",
    "highSodiumVsHighFat"
   ]
  },
  {
   "cell_type": "code",
   "execution_count": 86,
   "metadata": {},
   "outputs": [
    {
     "data": {
      "text/html": [
       "<div>\n",
       "<style>\n",
       "    .dataframe thead tr:only-child th {\n",
       "        text-align: right;\n",
       "    }\n",
       "\n",
       "    .dataframe thead th {\n",
       "        text-align: left;\n",
       "    }\n",
       "\n",
       "    .dataframe tbody tr th {\n",
       "        vertical-align: top;\n",
       "    }\n",
       "</style>\n",
       "<table border=\"1\" class=\"dataframe\">\n",
       "  <thead>\n",
       "    <tr style=\"text-align: right;\">\n",
       "      <th></th>\n",
       "      <th>LowFat</th>\n",
       "      <th>HighFat</th>\n",
       "    </tr>\n",
       "  </thead>\n",
       "  <tbody>\n",
       "    <tr>\n",
       "      <th>LowSodium</th>\n",
       "      <td>3529</td>\n",
       "      <td>1355</td>\n",
       "    </tr>\n",
       "    <tr>\n",
       "      <th>HighSodium</th>\n",
       "      <td>1378</td>\n",
       "      <td>712</td>\n",
       "    </tr>\n",
       "  </tbody>\n",
       "</table>\n",
       "</div>"
      ],
      "text/plain": [
       "            LowFat  HighFat\n",
       "LowSodium     3529     1355\n",
       "HighSodium    1378      712"
      ]
     },
     "execution_count": 86,
     "metadata": {},
     "output_type": "execute_result"
    }
   ],
   "source": [
    "highSodiumVsHighFat.columns = ['LowFat', 'HighFat']\n",
    "highSodiumVsHighFat"
   ]
  },
  {
   "cell_type": "markdown",
   "metadata": {},
   "source": [
    "#### The following command states: food with low sodium content has on average 2.332241 mg of Iron and foods with High Sodium content have 3.914451 mg of Iron on average"
   ]
  },
  {
   "cell_type": "code",
   "execution_count": 87,
   "metadata": {},
   "outputs": [
    {
     "data": {
      "text/plain": [
       "HighSodium\n",
       "0.0    2.332241\n",
       "1.0    3.914451\n",
       "Name: Iron, dtype: float64"
      ]
     },
     "execution_count": 87,
     "metadata": {},
     "output_type": "execute_result"
    }
   ],
   "source": [
    "usda.groupby('HighSodium')['Iron'].agg(np.mean)"
   ]
  },
  {
   "cell_type": "markdown",
   "metadata": {},
   "source": [
    "#### Some food with low carbs has got 1677.6 mg of VitaminC whereas the one with high carbs has got 2400 mg of VitaminC"
   ]
  },
  {
   "cell_type": "code",
   "execution_count": 90,
   "metadata": {},
   "outputs": [
    {
     "data": {
      "text/plain": [
       "HighCarbohydrate\n",
       "0    1677.6\n",
       "1    2400.0\n",
       "Name: VitaminC, dtype: float64"
      ]
     },
     "execution_count": 90,
     "metadata": {},
     "output_type": "execute_result"
    }
   ],
   "source": [
    "usda.groupby('HighCarbohydrate')['VitaminC'].agg(np.max)"
   ]
  },
  {
   "cell_type": "markdown",
   "metadata": {},
   "source": [
    "#### Food with Low carbs have on average 6.364035 mg of VitaminC whereas foods with high carbs have on average 16.311988 mg of VitaminC. So probably foods with high carbs have higher % of VitaminC. So we could probably say that if you consume foods with high carbs you will get more VitaminC."
   ]
  },
  {
   "cell_type": "code",
   "execution_count": 89,
   "metadata": {},
   "outputs": [
    {
     "data": {
      "text/plain": [
       "HighCarbohydrate\n",
       "0     6.364035\n",
       "1    16.311988\n",
       "Name: VitaminC, dtype: float64"
      ]
     },
     "execution_count": 89,
     "metadata": {},
     "output_type": "execute_result"
    }
   ],
   "source": [
    "usda.groupby('HighCarbohydrate')['VitaminC'].agg(np.mean)"
   ]
  },
  {
   "cell_type": "markdown",
   "metadata": {},
   "source": [
    "### Scatter plot"
   ]
  },
  {
   "cell_type": "code",
   "execution_count": 93,
   "metadata": {},
   "outputs": [
    {
     "data": {
      "text/plain": [
       "<matplotlib.collections.PathCollection at 0x1d86a1b0240>"
      ]
     },
     "execution_count": 93,
     "metadata": {},
     "output_type": "execute_result"
    },
    {
     "data": {
      "image/png": "[encoded data removed]",
      "text/plain": [
       "<matplotlib.figure.Figure at 0x1d86becca90>"
      ]
     },
     "metadata": {},
     "output_type": "display_data"
    }
   ],
   "source": [
    "plt.scatter(usda['Protein'], usda['TotalFat'])"
   ]
  },
  {
   "cell_type": "code",
   "execution_count": 97,
   "metadata": {},
   "outputs": [
    {
     "data": {
      "text/plain": [
       "<matplotlib.collections.PathCollection at 0x1d86d5dc3c8>"
      ]
     },
     "execution_count": 97,
     "metadata": {},
     "output_type": "execute_result"
    },
    {
     "data": {
      "image/png": "[encoded data removed]",
      "text/plain": [
       "<matplotlib.figure.Figure at 0x1d86c3c7390>"
      ]
     },
     "metadata": {},
     "output_type": "display_data"
    }
   ],
   "source": [
    "plt.scatter(usda['Protein'], usda['TotalFat'], s = 100)\n",
    "# Here s refers to the size, you can see that the bubbles are bigger"
   ]
  },
  {
   "cell_type": "code",
   "execution_count": 100,
   "metadata": {},
   "outputs": [
    {
     "data": {
      "text/plain": [
       "<matplotlib.collections.PathCollection at 0x1d86d798e10>"
      ]
     },
     "execution_count": 100,
     "metadata": {},
     "output_type": "execute_result"
    },
    {
     "data": {
      "image/png": "[encoded data removed]",
      "text/plain": [
       "<matplotlib.figure.Figure at 0x1d86d685400>"
      ]
     },
     "metadata": {},
     "output_type": "display_data"
    }
   ],
   "source": [
    "plt.scatter(usda['Protein'], usda['TotalFat'], c = usda['Protein'])\n",
    "# Probably when the bubbles don't overlap, there will be only 2 different colors, but still this should be explored further"
   ]
  },
  {
   "cell_type": "code",
   "execution_count": 99,
   "metadata": {},
   "outputs": [
    {
     "data": {
      "text/plain": [
       "<matplotlib.text.Text at 0x1d86d6dde48>"
      ]
     },
     "execution_count": 99,
     "metadata": {},
     "output_type": "execute_result"
    },
    {
     "data": {
      "image/png": "[encoded data removed]",
      "text/plain": [
       "<matplotlib.figure.Figure at 0x1d86d623a20>"
      ]
     },
     "metadata": {},
     "output_type": "display_data"
    }
   ],
   "source": [
    "plt.scatter(x=usda['Protein'], y=usda['TotalFat'])\n",
    "plt.xlabel('Protein')\n",
    "plt.ylabel('Total Fat')\n",
    "plt.title('Protein vs Fat')"
   ]
  },
  {
   "cell_type": "markdown",
   "metadata": {},
   "source": [
    "### Histogram"
   ]
  },
  {
   "cell_type": "code",
   "execution_count": 102,
   "metadata": {},
   "outputs": [
    {
     "data": {
      "text/plain": [
       "(array([  6.70900000e+03,   5.00000000e+00,   5.00000000e+00,\n",
       "          0.00000000e+00,   0.00000000e+00,   0.00000000e+00,\n",
       "          2.00000000e+00,   2.00000000e+00,   0.00000000e+00,\n",
       "          3.00000000e+00]),\n",
       " array([    0.,   240.,   480.,   720.,   960.,  1200.,  1440.,  1680.,\n",
       "         1920.,  2160.,  2400.]),\n",
       " <a list of 10 Patch objects>)"
      ]
     },
     "execution_count": 102,
     "metadata": {},
     "output_type": "execute_result"
    },
    {
     "data": {
      "image/png": "[encoded data removed]",
      "text/plain": [
       "<matplotlib.figure.Figure at 0x1d86d9a4b38>"
      ]
     },
     "metadata": {},
     "output_type": "display_data"
    }
   ],
   "source": [
    "# plt.hist(usda['VitaminC']) Calling usda['VitaminC'] causes 'max must be larger than min in range parameter.' error because it\n",
    "# has NaN values. So,\n",
    "\n",
    "plt.hist(usda['VitaminC'].dropna())"
   ]
  },
  {
   "cell_type": "code",
   "execution_count": 103,
   "metadata": {},
   "outputs": [
    {
     "data": {
      "text/plain": [
       "(array([  4.55200000e+03,   3.39000000e+02,   2.06000000e+02, ...,\n",
       "          0.00000000e+00,   0.00000000e+00,   3.00000000e+00]),\n",
       " array([  0.00000000e+00,   1.20000000e+00,   2.40000000e+00, ...,\n",
       "          2.39760000e+03,   2.39880000e+03,   2.40000000e+03]),\n",
       " <a list of 2000 Patch objects>)"
      ]
     },
     "execution_count": 103,
     "metadata": {},
     "output_type": "execute_result"
    },
    {
     "data": {
      "image/png": "[encoded data removed]",
      "text/plain": [
       "<matplotlib.figure.Figure at 0x1d86da23d30>"
      ]
     },
     "metadata": {},
     "output_type": "display_data"
    }
   ],
   "source": [
    "plt.hist(usda['VitaminC'].dropna(), bins=2000)"
   ]
  },
  {
   "cell_type": "markdown",
   "metadata": {},
   "source": [
    "#### The following histogram shows that more than 5000 foods have less than 1mg of VitaminC"
   ]
  },
  {
   "cell_type": "code",
   "execution_count": 107,
   "metadata": {},
   "outputs": [
    {
     "data": {
      "text/plain": [
       "<matplotlib.text.Text at 0x1d874b88ac8>"
      ]
     },
     "execution_count": 107,
     "metadata": {},
     "output_type": "execute_result"
    },
    {
     "data": {
      "image/png": "[encoded data removed]",
      "text/plain": [
       "<matplotlib.figure.Figure at 0x1d86dad8f28>"
      ]
     },
     "metadata": {},
     "output_type": "display_data"
    }
   ],
   "source": [
    "plt.hist(usda['VitaminC'].dropna(), bins = 100, range=(0, 100))\n",
    "# range is used to fix the range of x-axis, bins is the number of rectangles.\n",
    "plt.xlabel(\"VitaminC (mg)\")\n",
    "plt.ylabel(\"Frequency\")\n",
    "plt.title(\"Histogram of VitaminC levels\")"
   ]
  },
  {
   "cell_type": "markdown",
   "metadata": {},
   "source": [
    "### Boxplot"
   ]
  },
  {
   "cell_type": "code",
   "execution_count": 114,
   "metadata": {},
   "outputs": [
    {
     "data": {
      "text/plain": [
       "<matplotlib.text.Text at 0x1d8751d9278>"
      ]
     },
     "execution_count": 114,
     "metadata": {},
     "output_type": "execute_result"
    },
    {
     "data": {
      "image/png": "[encoded data removed]",
      "text/plain": [
       "<matplotlib.figure.Figure at 0x1d875198160>"
      ]
     },
     "metadata": {},
     "output_type": "display_data"
    }
   ],
   "source": [
    "plt.boxplot(usda['Sugar'].dropna())\n",
    "'''The figure shows the average level of sugar is around 5mg (orange line) but there are some foods(outliers) \n",
    "with higher level of sugar content. This could be because of candies etc.,\n",
    "'''\n",
    "\n",
    "plt.ylabel(\"Sugar (mg)\")\n",
    "plt.title(\"Boxplot of sugar levels\")"
   ]
  }
 ],
 "metadata": {
  "kernelspec": {
   "display_name": "Python 3",
   "language": "python",
   "name": "python3"
  },
  "language_info": {
   "codemirror_mode": {
    "name": "ipython",
    "version": 3
   },
   "file_extension": ".py",
   "mimetype": "text/x-python",
   "name": "python",
   "nbconvert_exporter": "python",
   "pygments_lexer": "ipython3",
   "version": "3.6.1"
  }
 },
 "nbformat": 4,
 "nbformat_minor": 2
}
